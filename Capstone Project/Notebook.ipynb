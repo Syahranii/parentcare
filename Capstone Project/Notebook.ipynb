{
  "cells": [
    {
      "cell_type": "markdown",
      "metadata": {},
      "source": [
        "# Analisis dan Klasifikasi Prestasi Siswa Berdasarkan Parenting\n",
        "Notebook ini melakukan:\n",
        "- Pembersihan dan pra-pemrosesan data\n",
        "- Pelatihan model Random Forest\n",
        "- Evaluasi model\n",
        "- Tuning hyperparameter\n",
        "- Prediksi data baru\n",
        "- Visualisasi ROC untuk klasifikasi multi-kelas"
      ]
    },
    {
      "cell_type": "code",
      "execution_count": 1,
      "metadata": {},
      "outputs": [],
      "source": [
        "import pandas as pd\n",
        "import numpy as np\n",
        "import matplotlib.pyplot as plt\n",
        "from sklearn.model_selection import train_test_split, cross_val_score, GridSearchCV\n",
        "from sklearn.preprocessing import LabelEncoder, StandardScaler, OneHotEncoder, label_binarize\n",
        "from sklearn.impute import SimpleImputer\n",
        "from sklearn.ensemble import RandomForestClassifier\n",
        "from sklearn.metrics import classification_report, accuracy_score, roc_curve, auc\n",
        "from sklearn.pipeline import Pipeline\n",
        "from sklearn.compose import ColumnTransformer"
      ]
    },
    {
      "cell_type": "code",
      "execution_count": 2,
      "metadata": {},
      "outputs": [
        {
          "data": {
            "text/html": [
              "<div>\n",
              "<style scoped>\n",
              "    .dataframe tbody tr th:only-of-type {\n",
              "        vertical-align: middle;\n",
              "    }\n",
              "\n",
              "    .dataframe tbody tr th {\n",
              "        vertical-align: top;\n",
              "    }\n",
              "\n",
              "    .dataframe thead th {\n",
              "        text-align: right;\n",
              "    }\n",
              "</style>\n",
              "<table border=\"1\" class=\"dataframe\">\n",
              "  <thead>\n",
              "    <tr style=\"text-align: right;\">\n",
              "      <th></th>\n",
              "      <th>gender</th>\n",
              "      <th>NationalITy</th>\n",
              "      <th>PlaceofBirth</th>\n",
              "      <th>StageID</th>\n",
              "      <th>GradeID</th>\n",
              "      <th>SectionID</th>\n",
              "      <th>Topic</th>\n",
              "      <th>Semester</th>\n",
              "      <th>Relation</th>\n",
              "      <th>raisedhands</th>\n",
              "      <th>VisITedResources</th>\n",
              "      <th>AnnouncementsView</th>\n",
              "      <th>Discussion</th>\n",
              "      <th>ParentAnsweringSurvey</th>\n",
              "      <th>ParentschoolSatisfaction</th>\n",
              "      <th>StudentAbsenceDays</th>\n",
              "      <th>Class</th>\n",
              "    </tr>\n",
              "  </thead>\n",
              "  <tbody>\n",
              "    <tr>\n",
              "      <th>0</th>\n",
              "      <td>M</td>\n",
              "      <td>KW</td>\n",
              "      <td>KuwaIT</td>\n",
              "      <td>lowerlevel</td>\n",
              "      <td>G-04</td>\n",
              "      <td>A</td>\n",
              "      <td>IT</td>\n",
              "      <td>F</td>\n",
              "      <td>Father</td>\n",
              "      <td>15</td>\n",
              "      <td>16</td>\n",
              "      <td>2</td>\n",
              "      <td>20</td>\n",
              "      <td>Yes</td>\n",
              "      <td>Good</td>\n",
              "      <td>Under-7</td>\n",
              "      <td>M</td>\n",
              "    </tr>\n",
              "    <tr>\n",
              "      <th>1</th>\n",
              "      <td>M</td>\n",
              "      <td>KW</td>\n",
              "      <td>KuwaIT</td>\n",
              "      <td>lowerlevel</td>\n",
              "      <td>G-04</td>\n",
              "      <td>A</td>\n",
              "      <td>IT</td>\n",
              "      <td>F</td>\n",
              "      <td>Father</td>\n",
              "      <td>20</td>\n",
              "      <td>20</td>\n",
              "      <td>3</td>\n",
              "      <td>25</td>\n",
              "      <td>Yes</td>\n",
              "      <td>Good</td>\n",
              "      <td>Under-7</td>\n",
              "      <td>M</td>\n",
              "    </tr>\n",
              "    <tr>\n",
              "      <th>2</th>\n",
              "      <td>M</td>\n",
              "      <td>KW</td>\n",
              "      <td>KuwaIT</td>\n",
              "      <td>lowerlevel</td>\n",
              "      <td>G-04</td>\n",
              "      <td>A</td>\n",
              "      <td>IT</td>\n",
              "      <td>F</td>\n",
              "      <td>Father</td>\n",
              "      <td>10</td>\n",
              "      <td>7</td>\n",
              "      <td>0</td>\n",
              "      <td>30</td>\n",
              "      <td>No</td>\n",
              "      <td>Bad</td>\n",
              "      <td>Above-7</td>\n",
              "      <td>L</td>\n",
              "    </tr>\n",
              "    <tr>\n",
              "      <th>3</th>\n",
              "      <td>M</td>\n",
              "      <td>KW</td>\n",
              "      <td>KuwaIT</td>\n",
              "      <td>lowerlevel</td>\n",
              "      <td>G-04</td>\n",
              "      <td>A</td>\n",
              "      <td>IT</td>\n",
              "      <td>F</td>\n",
              "      <td>Father</td>\n",
              "      <td>30</td>\n",
              "      <td>25</td>\n",
              "      <td>5</td>\n",
              "      <td>35</td>\n",
              "      <td>No</td>\n",
              "      <td>Bad</td>\n",
              "      <td>Above-7</td>\n",
              "      <td>L</td>\n",
              "    </tr>\n",
              "    <tr>\n",
              "      <th>4</th>\n",
              "      <td>M</td>\n",
              "      <td>KW</td>\n",
              "      <td>KuwaIT</td>\n",
              "      <td>lowerlevel</td>\n",
              "      <td>G-04</td>\n",
              "      <td>A</td>\n",
              "      <td>IT</td>\n",
              "      <td>F</td>\n",
              "      <td>Father</td>\n",
              "      <td>40</td>\n",
              "      <td>50</td>\n",
              "      <td>12</td>\n",
              "      <td>50</td>\n",
              "      <td>No</td>\n",
              "      <td>Bad</td>\n",
              "      <td>Above-7</td>\n",
              "      <td>M</td>\n",
              "    </tr>\n",
              "  </tbody>\n",
              "</table>\n",
              "</div>"
            ],
            "text/plain": [
              "  gender NationalITy PlaceofBirth     StageID GradeID SectionID Topic  \\\n",
              "0      M          KW       KuwaIT  lowerlevel    G-04         A    IT   \n",
              "1      M          KW       KuwaIT  lowerlevel    G-04         A    IT   \n",
              "2      M          KW       KuwaIT  lowerlevel    G-04         A    IT   \n",
              "3      M          KW       KuwaIT  lowerlevel    G-04         A    IT   \n",
              "4      M          KW       KuwaIT  lowerlevel    G-04         A    IT   \n",
              "\n",
              "  Semester Relation  raisedhands  VisITedResources  AnnouncementsView  \\\n",
              "0        F   Father           15                16                  2   \n",
              "1        F   Father           20                20                  3   \n",
              "2        F   Father           10                 7                  0   \n",
              "3        F   Father           30                25                  5   \n",
              "4        F   Father           40                50                 12   \n",
              "\n",
              "   Discussion ParentAnsweringSurvey ParentschoolSatisfaction  \\\n",
              "0          20                   Yes                     Good   \n",
              "1          25                   Yes                     Good   \n",
              "2          30                    No                      Bad   \n",
              "3          35                    No                      Bad   \n",
              "4          50                    No                      Bad   \n",
              "\n",
              "  StudentAbsenceDays Class  \n",
              "0            Under-7     M  \n",
              "1            Under-7     M  \n",
              "2            Above-7     L  \n",
              "3            Above-7     L  \n",
              "4            Above-7     M  "
            ]
          },
          "execution_count": 2,
          "metadata": {},
          "output_type": "execute_result"
        }
      ],
      "source": [
        "df = pd.read_csv('../data/parenting_prestasi.csv')\n",
        "df.head()"
      ]
    },
    {
      "cell_type": "markdown",
      "metadata": {},
      "source": [
        "## Pembersihan dan Pra-pemrosesan Data\n",
        "Langkah ini mencakup:\n",
        "- Penanganan nilai hilang\n",
        "- Penghapusan duplikasi\n",
        "- Standarisasi kapitalisasi\n",
        "- Rekayasa fitur TotalEngagement"
      ]
    },
    {
      "cell_type": "code",
      "execution_count": 3,
      "metadata": {},
      "outputs": [],
      "source": [
        "num_cols = ['raisedhands', 'VisITedResources', 'AnnouncementsView', 'Discussion']\n",
        "cat_cols = ['gender', 'NationalITy', 'PlaceofBirth', 'StageID', 'GradeID', 'SectionID', \n",
        "            'Topic', 'Semester', 'Relation', 'ParentAnsweringSurvey', \n",
        "            'ParentschoolSatisfaction', 'StudentAbsenceDays']\n",
        "\n",
        "for col in num_cols:\n",
        "    if df[col].isnull().sum() > 0:\n",
        "        df[col].fillna(df[col].median(), inplace=True)\n",
        "\n",
        "for col in cat_cols:\n",
        "    if df[col].isnull().sum() > 0:\n",
        "        df[col].fillna(df[col].mode()[0], inplace=True)\n",
        "\n",
        "df.drop_duplicates(inplace=True)\n",
        "df['gender'] = df['gender'].str.upper()\n",
        "df['NationalITy'] = df['NationalITy'].str.title()\n",
        "df['PlaceofBirth'] = df['PlaceofBirth'].str.title()\n",
        "df['ParentAnsweringSurvey'] = df['ParentAnsweringSurvey'].str.title()\n",
        "df['ParentschoolSatisfaction'] = df['ParentschoolSatisfaction'].str.title()\n",
        "df['TotalEngagement'] = df['raisedhands'] + df['VisITedResources'] + df['AnnouncementsView'] + df['Discussion']"
      ]
    },
    {
      "cell_type": "markdown",
      "metadata": {},
      "source": [
        "## Encoding Variabel Kategorikal dan Target"
      ]
    },
    {
      "cell_type": "code",
      "execution_count": 4,
      "metadata": {},
      "outputs": [],
      "source": [
        "label_encoders = {}\n",
        "for col in cat_cols:\n",
        "    le = LabelEncoder()\n",
        "    df[col] = le.fit_transform(df[col])\n",
        "    label_encoders[col] = le\n",
        "\n",
        "le_class = LabelEncoder()\n",
        "df['Class'] = le_class.fit_transform(df['Class'])"
      ]
    },
    {
      "cell_type": "markdown",
      "metadata": {},
      "source": [
        "## Pembagian Data untuk Pelatihan dan Pengujian"
      ]
    },
    {
      "cell_type": "code",
      "execution_count": 5,
      "metadata": {},
      "outputs": [],
      "source": [
        "X = df.drop('Class', axis=1)\n",
        "y = df['Class']\n",
        "X_train, X_test, y_train, y_test = train_test_split(X, y, test_size=0.2, random_state=42)"
      ]
    },
    {
      "cell_type": "markdown",
      "metadata": {},
      "source": [
        "## Preprocessing Pipeline"
      ]
    },
    {
      "cell_type": "code",
      "execution_count": 6,
      "metadata": {},
      "outputs": [],
      "source": [
        "numeric_features = num_cols + ['TotalEngagement']\n",
        "numeric_transformer = Pipeline(steps=[\n",
        "    ('imputer', SimpleImputer(strategy='median')), \n",
        "    ('scaler', StandardScaler())])\n",
        "\n",
        "categorical_transformer = Pipeline(steps=[\n",
        "    ('imputer', SimpleImputer(strategy='most_frequent')),\n",
        "    ('encoder', OneHotEncoder(handle_unknown='ignore', sparse_output=False))])\n",
        "\n",
        "preprocessor = ColumnTransformer(transformers=[\n",
        "    ('num', numeric_transformer, numeric_features),\n",
        "    ('cat', categorical_transformer, cat_cols)])"
      ]
    },
    {
      "cell_type": "markdown",
      "metadata": {},
      "source": [
        "## Pelatihan Model dan Evaluasi Awal"
      ]
    },
    {
      "cell_type": "code",
      "execution_count": 7,
      "metadata": {},
      "outputs": [
        {
          "name": "stdout",
          "output_type": "stream",
          "text": [
            "Cross-validation scores: [0.61458333 0.66666667 0.75       0.70526316 0.72631579]\n",
            "Average CV score: 0.69\n"
          ]
        }
      ],
      "source": [
        "model = Pipeline(steps=[\n",
        "    ('preprocessor', preprocessor),\n",
        "    ('classifier', RandomForestClassifier(random_state=42))])\n",
        "\n",
        "cv_scores = cross_val_score(model, X, y, cv=5, scoring='accuracy')\n",
        "print(f\"Cross-validation scores: {cv_scores}\")\n",
        "print(f\"Average CV score: {cv_scores.mean():.2f}\")"
      ]
    },
    {
      "cell_type": "markdown",
      "metadata": {},
      "source": [
        "## Hyperparameter Tuning dengan GridSearchCV"
      ]
    },
    {
      "cell_type": "code",
      "execution_count": 8,
      "metadata": {},
      "outputs": [
        {
          "name": "stdout",
          "output_type": "stream",
          "text": [
            "Fitting 5 folds for each of 9 candidates, totalling 45 fits\n",
            "Best parameters: {'classifier__max_depth': None, 'classifier__n_estimators': 200}\n"
          ]
        }
      ],
      "source": [
        "param_grid = {\n",
        "    'classifier__n_estimators': [50, 100, 200],\n",
        "    'classifier__max_depth': [10, 20, None]\n",
        "}\n",
        "grid_search = GridSearchCV(model, param_grid, cv=5, n_jobs=-1, verbose=1)\n",
        "grid_search.fit(X_train, y_train)\n",
        "best_model = grid_search.best_estimator_\n",
        "print(\"Best parameters:\", grid_search.best_params_)"
      ]
    },
    {
      "cell_type": "markdown",
      "metadata": {},
      "source": [
        "## Evaluasi Model Terbaik"
      ]
    },
    {
      "cell_type": "code",
      "execution_count": 9,
      "metadata": {},
      "outputs": [
        {
          "name": "stdout",
          "output_type": "stream",
          "text": [
            "Accuracy: 0.83\n",
            "              precision    recall  f1-score   support\n",
            "\n",
            "           H       0.77      0.83      0.80        24\n",
            "           L       0.86      0.93      0.89        27\n",
            "           M       0.85      0.78      0.81        45\n",
            "\n",
            "    accuracy                           0.83        96\n",
            "   macro avg       0.83      0.85      0.84        96\n",
            "weighted avg       0.83      0.83      0.83        96\n",
            "\n"
          ]
        }
      ],
      "source": [
        "y_pred = best_model.predict(X_test)\n",
        "print(f\"Accuracy: {accuracy_score(y_test, y_pred):.2f}\")\n",
        "print(classification_report(y_test, y_pred, target_names=le_class.classes_))"
      ]
    },
    {
      "cell_type": "markdown",
      "metadata": {},
      "source": [
        "## Prediksi Data Baru"
      ]
    },
    {
      "cell_type": "code",
      "execution_count": 10,
      "metadata": {},
      "outputs": [
        {
          "name": "stdout",
          "output_type": "stream",
          "text": [
            "Predicted class: M\n"
          ]
        }
      ],
      "source": [
        "def handle_unseen_labels(value, le):\n",
        "    if value not in le.classes_:\n",
        "        return 'Unknown'\n",
        "    return value\n",
        "\n",
        "def preprocess_new_data(new_data):\n",
        "    new_data = new_data.copy()\n",
        "    new_data['gender'] = new_data['gender'].str.upper()\n",
        "    new_data['NationalITy'] = new_data['NationalITy'].str.title()\n",
        "    new_data['PlaceofBirth'] = new_data['PlaceofBirth'].str.title()\n",
        "    new_data['ParentAnsweringSurvey'] = new_data['ParentAnsweringSurvey'].str.title()\n",
        "    new_data['ParentschoolSatisfaction'] = new_data['ParentschoolSatisfaction'].str.title()\n",
        "    new_data['TotalEngagement'] = (new_data['raisedhands'] + new_data['VisITedResources'] + \n",
        "                                   new_data['AnnouncementsView'] + new_data['Discussion'])\n",
        "    for col in cat_cols:\n",
        "        le = label_encoders[col]\n",
        "        new_data[col] = new_data[col].apply(lambda x: handle_unseen_labels(x, le))\n",
        "        new_data[col] = le.transform(new_data[col])\n",
        "    return new_data\n",
        "\n",
        "new_data = pd.DataFrame({\n",
        "    'gender': ['M'],\n",
        "    'NationalITy': ['KW'],\n",
        "    'PlaceofBirth': ['KuwaIT'],\n",
        "    'StageID': ['MiddleSchool'],\n",
        "    'GradeID': ['G-07'],\n",
        "    'SectionID': ['A'],\n",
        "    'Topic': ['IT'],\n",
        "    'Semester': ['F'],\n",
        "    'Relation': ['Father'],\n",
        "    'raisedhands': [50],\n",
        "    'VisITedResources': [60],\n",
        "    'AnnouncementsView': [30],\n",
        "    'Discussion': [70],\n",
        "    'ParentAnsweringSurvey': ['Yes'],\n",
        "    'ParentschoolSatisfaction': ['Good'],\n",
        "    'StudentAbsenceDays': ['Under-7']\n",
        "})\n",
        "prediction = best_model.predict(preprocess_new_data(new_data))\n",
        "print(f\"Predicted class: {le_class.inverse_transform(prediction)[0]}\")"
      ]
    },
    {
      "cell_type": "markdown",
      "metadata": {},
      "source": [
        "## Simpan Dataset yang Telah Dibersihkan dan Dikodekan"
      ]
    },
    {
      "cell_type": "code",
      "execution_count": 11,
      "metadata": {},
      "outputs": [
        {
          "name": "stdout",
          "output_type": "stream",
          "text": [
            "Dataset telah disimpan sebagai 'parenting_prestasi_cleaned.csv'\n"
          ]
        }
      ],
      "source": [
        "df_cleaned = df.copy()\n",
        "df_cleaned.to_csv('../data eval/parenting_prestasi_cleaned.csv', index=False)\n",
        "print(\"Dataset telah disimpan sebagai 'parenting_prestasi_cleaned.csv'\")"
      ]
    },
    {
      "cell_type": "markdown",
      "metadata": {},
      "source": [
        "## Visualisasi ROC Curve untuk Klasifikasi Multi-Kelas"
      ]
    },
    {
      "cell_type": "code",
      "execution_count": 12,
      "metadata": {},
      "outputs": [
        {
          "data": {
            "image/png": "[encoded data removed]",
            "text/plain": [
              "<Figure size 1000x800 with 1 Axes>"
            ]
          },
          "metadata": {},
          "output_type": "display_data"
        }
      ],
      "source": [
        "y_test_binarized = label_binarize(y_test, classes=np.arange(len(le_class.classes_)))\n",
        "y_score = best_model.predict_proba(X_test)\n",
        "plt.figure(figsize=(10, 8))\n",
        "for i in range(len(le_class.classes_)):\n",
        "    fpr, tpr, _ = roc_curve(y_test_binarized[:, i], y_score[:, i])\n",
        "    roc_auc = auc(fpr, tpr)\n",
        "    plt.plot(fpr, tpr, lw=2, label=f'Class {le_class.classes_[i]} (AUC = {roc_auc:.2f})')\n",
        "plt.plot([0, 1], [0, 1], color='gray', linestyle='--')\n",
        "plt.xlabel('False Positive Rate')\n",
        "plt.ylabel('True Positive Rate')\n",
        "plt.title('Receiver Operating Characteristic (ROC) Curve - Multi-Class')\n",
        "plt.legend(loc='lower right')\n",
        "plt.show()"
      ]
    }
  ],
  "metadata": {
    "kernelspec": {
      "display_name": "Python 3",
      "language": "python",
      "name": "python3"
    },
    "language_info": {
      "codemirror_mode": {
        "name": "ipython",
        "version": 3
      },
      "file_extension": ".py",
      "mimetype": "text/x-python",
      "name": "python",
      "nbconvert_exporter": "python",
      "pygments_lexer": "ipython3",
      "version": "3.10.11"
    }
  },
  "nbformat": 4,
  "nbformat_minor": 5
}
