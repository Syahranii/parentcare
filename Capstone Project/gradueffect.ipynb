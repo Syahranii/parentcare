{
 "cells": [
  {
   "cell_type": "code",
   "execution_count": 33,
   "id": "b425b485",
   "metadata": {},
   "outputs": [],
   "source": [
    "# Import libraries\n",
    "import pandas as pd\n",
    "import matplotlib.pyplot as plt\n",
    "import seaborn as sns\n",
    "from sklearn.model_selection import train_test_split\n",
    "from sklearn.preprocessing import LabelEncoder, StandardScaler\n",
    "from sklearn.linear_model import LogisticRegression\n",
    "from sklearn.ensemble import RandomForestClassifier\n",
    "from sklearn.neighbors import KNeighborsClassifier\n",
    "from sklearn.svm import SVC\n",
    "from sklearn.metrics import accuracy_score, classification_report"
   ]
  },
  {
   "cell_type": "code",
   "execution_count": 19,
   "id": "330c49de",
   "metadata": {},
   "outputs": [
    {
     "data": {
      "text/html": [
       "<div>\n",
       "<style scoped>\n",
       "    .dataframe tbody tr th:only-of-type {\n",
       "        vertical-align: middle;\n",
       "    }\n",
       "\n",
       "    .dataframe tbody tr th {\n",
       "        vertical-align: top;\n",
       "    }\n",
       "\n",
       "    .dataframe thead th {\n",
       "        text-align: right;\n",
       "    }\n",
       "</style>\n",
       "<table border=\"1\" class=\"dataframe\">\n",
       "  <thead>\n",
       "    <tr style=\"text-align: right;\">\n",
       "      <th></th>\n",
       "      <th>ACT composite score</th>\n",
       "      <th>SAT total score</th>\n",
       "      <th>parental level of education</th>\n",
       "      <th>parental income</th>\n",
       "      <th>high school gpa</th>\n",
       "      <th>college gpa</th>\n",
       "      <th>years to graduate</th>\n",
       "    </tr>\n",
       "  </thead>\n",
       "  <tbody>\n",
       "    <tr>\n",
       "      <th>0</th>\n",
       "      <td>22</td>\n",
       "      <td>1625</td>\n",
       "      <td>high school</td>\n",
       "      <td>40999</td>\n",
       "      <td>3.0</td>\n",
       "      <td>3.1</td>\n",
       "      <td>7</td>\n",
       "    </tr>\n",
       "    <tr>\n",
       "      <th>1</th>\n",
       "      <td>29</td>\n",
       "      <td>2090</td>\n",
       "      <td>associate's degree</td>\n",
       "      <td>75817</td>\n",
       "      <td>4.0</td>\n",
       "      <td>3.4</td>\n",
       "      <td>5</td>\n",
       "    </tr>\n",
       "    <tr>\n",
       "      <th>2</th>\n",
       "      <td>30</td>\n",
       "      <td>2188</td>\n",
       "      <td>bachelor's degree</td>\n",
       "      <td>82888</td>\n",
       "      <td>4.0</td>\n",
       "      <td>3.9</td>\n",
       "      <td>3</td>\n",
       "    </tr>\n",
       "    <tr>\n",
       "      <th>3</th>\n",
       "      <td>33</td>\n",
       "      <td>2151</td>\n",
       "      <td>associate's degree</td>\n",
       "      <td>93518</td>\n",
       "      <td>4.0</td>\n",
       "      <td>3.7</td>\n",
       "      <td>5</td>\n",
       "    </tr>\n",
       "    <tr>\n",
       "      <th>4</th>\n",
       "      <td>29</td>\n",
       "      <td>2050</td>\n",
       "      <td>associate's degree</td>\n",
       "      <td>79153</td>\n",
       "      <td>4.0</td>\n",
       "      <td>3.4</td>\n",
       "      <td>6</td>\n",
       "    </tr>\n",
       "  </tbody>\n",
       "</table>\n",
       "</div>"
      ],
      "text/plain": [
       "   ACT composite score  SAT total score parental level of education  \\\n",
       "0                   22             1625                 high school   \n",
       "1                   29             2090          associate's degree   \n",
       "2                   30             2188           bachelor's degree   \n",
       "3                   33             2151          associate's degree   \n",
       "4                   29             2050          associate's degree   \n",
       "\n",
       "   parental income  high school gpa  college gpa  years to graduate  \n",
       "0            40999              3.0          3.1                  7  \n",
       "1            75817              4.0          3.4                  5  \n",
       "2            82888              4.0          3.9                  3  \n",
       "3            93518              4.0          3.7                  5  \n",
       "4            79153              4.0          3.4                  6  "
      ]
     },
     "execution_count": 19,
     "metadata": {},
     "output_type": "execute_result"
    }
   ],
   "source": [
    "# Load Dataset\n",
    "df = pd.read_csv(\"graduation_rate.csv\")\n",
    "\n",
    "# Tampilkan 5 data pertama\n",
    "df.head()"
   ]
  },
  {
   "cell_type": "code",
   "execution_count": 20,
   "id": "f69e0abc",
   "metadata": {},
   "outputs": [],
   "source": [
    "# ===== Tambahkan Label Graduated (berdasarkan college GPA & years to graduate) =====\n",
    "df['graduated'] = df.apply(\n",
    "    lambda row: 'yes' if row['college gpa'] >= 2.5 and row['years to graduate'] <= 6 else 'no',\n",
    "    axis=1\n",
    ")"
   ]
  },
  {
   "cell_type": "code",
   "execution_count": 21,
   "id": "7a61729e",
   "metadata": {},
   "outputs": [],
   "source": [
    "# ===== Buat Label Parenting Behavior =====\n",
    "def infer_parenting_behavior(row):\n",
    "    if row['parental level of education'] in ['graduate degree', \"bachelor's degree\"]:\n",
    "        if row['high school gpa'] >= 3.5:\n",
    "            return 'authoritative'\n",
    "        else:\n",
    "            return 'authoritarian'\n",
    "    else:\n",
    "        if row['high school gpa'] >= 3.0:\n",
    "            return 'permissive'\n",
    "        else:\n",
    "            return 'neglectful'\n",
    "\n",
    "df['parenting_behavior'] = df.apply(infer_parenting_behavior, axis=1)\n"
   ]
  },
  {
   "cell_type": "code",
   "execution_count": 22,
   "id": "8e0320f5",
   "metadata": {},
   "outputs": [
    {
     "name": "stdout",
     "output_type": "stream",
     "text": [
      "<class 'pandas.core.frame.DataFrame'>\n",
      "RangeIndex: 1000 entries, 0 to 999\n",
      "Data columns (total 9 columns):\n",
      " #   Column                       Non-Null Count  Dtype  \n",
      "---  ------                       --------------  -----  \n",
      " 0   ACT composite score          1000 non-null   int64  \n",
      " 1   SAT total score              1000 non-null   int64  \n",
      " 2   parental level of education  1000 non-null   object \n",
      " 3   parental income              1000 non-null   int64  \n",
      " 4   high school gpa              1000 non-null   float64\n",
      " 5   college gpa                  1000 non-null   float64\n",
      " 6   years to graduate            1000 non-null   int64  \n",
      " 7   graduated                    1000 non-null   object \n",
      " 8   parenting_behavior           1000 non-null   object \n",
      "dtypes: float64(2), int64(4), object(3)\n",
      "memory usage: 70.4+ KB\n",
      "None\n"
     ]
    }
   ],
   "source": [
    "# 3. Cek Informasi dan Membersihkan Data\n",
    "\n",
    "# Lihat info kolom\n",
    "print(df.info())"
   ]
  },
  {
   "cell_type": "code",
   "execution_count": 23,
   "id": "d1c8fc77",
   "metadata": {},
   "outputs": [
    {
     "name": "stdout",
     "output_type": "stream",
     "text": [
      "\n",
      "Missing values:\n",
      "ACT composite score            0\n",
      "SAT total score                0\n",
      "parental level of education    0\n",
      "parental income                0\n",
      "high school gpa                0\n",
      "college gpa                    0\n",
      "years to graduate              0\n",
      "graduated                      0\n",
      "parenting_behavior             0\n",
      "dtype: int64\n"
     ]
    }
   ],
   "source": [
    "# Cek missing value\n",
    "print(\"\\nMissing values:\")\n",
    "print(df.isnull().sum())"
   ]
  },
  {
   "cell_type": "code",
   "execution_count": 24,
   "id": "1ca5f7c0",
   "metadata": {},
   "outputs": [],
   "source": [
    "# Drop duplikat jika ada\n",
    "df = df.drop_duplicates()"
   ]
  },
  {
   "cell_type": "code",
   "execution_count": 25,
   "id": "3d1de5d1",
   "metadata": {},
   "outputs": [],
   "source": [
    "# Tambahkan kolom target 'graduated' berdasarkan waktu kelulusan\n",
    "df['graduated'] = df['years to graduate'].apply(lambda x: 1 if x <= 4 else 0)"
   ]
  },
  {
   "cell_type": "code",
   "execution_count": 26,
   "id": "1abc99c1",
   "metadata": {},
   "outputs": [
    {
     "data": {
      "image/png": "[encoded data removed]",
      "text/plain": [
       "<Figure size 600x400 with 1 Axes>"
      ]
     },
     "metadata": {},
     "output_type": "display_data"
    }
   ],
   "source": [
    "# ===== EDA Graduated =====\n",
    "plt.figure(figsize=(6,4))\n",
    "sns.countplot(data=df, x='graduated')\n",
    "plt.title(\"Distribusi Kelulusan Mahasiswa\")\n",
    "plt.xlabel(\"Graduated\")\n",
    "plt.ylabel(\"Jumlah\")\n",
    "plt.show()"
   ]
  },
  {
   "cell_type": "code",
   "execution_count": 27,
   "id": "bce98156",
   "metadata": {},
   "outputs": [
    {
     "data": {
      "image/png": "[encoded data removed]",
      "text/plain": [
       "<Figure size 800x500 with 1 Axes>"
      ]
     },
     "metadata": {},
     "output_type": "display_data"
    }
   ],
   "source": [
    "# ===== EDA Parenting vs Pendidikan Orang Tua =====\n",
    "plt.figure(figsize=(8,5))\n",
    "sns.countplot(data=df, x='parenting_behavior', hue='parental level of education')\n",
    "plt.title(\"Pola Parenting Berdasarkan Tingkat Pendidikan Orang Tua\")\n",
    "plt.xlabel(\"Parenting Behavior\")\n",
    "plt.ylabel(\"Jumlah\")\n",
    "plt.xticks(rotation=45)\n",
    "plt.tight_layout()\n",
    "plt.show()"
   ]
  },
  {
   "cell_type": "code",
   "execution_count": 28,
   "id": "7961fcb6",
   "metadata": {},
   "outputs": [
    {
     "name": "stdout",
     "output_type": "stream",
     "text": [
      "Proporsi Parenting Behavior berdasarkan Pendidikan Orang Tua:\n",
      "\n",
      "parenting_behavior           authoritarian  authoritative  neglectful  \\\n",
      "parental level of education                                             \n",
      "associate's degree                0.000000       0.000000    0.000000   \n",
      "bachelor's degree                 0.064516       0.935484    0.000000   \n",
      "high school                       0.000000       0.000000    0.009662   \n",
      "master's degree                   0.000000       0.000000    0.000000   \n",
      "some college                      0.000000       0.000000    0.008621   \n",
      "some high school                  0.000000       0.000000    0.027778   \n",
      "\n",
      "parenting_behavior           permissive  \n",
      "parental level of education              \n",
      "associate's degree             1.000000  \n",
      "bachelor's degree              0.000000  \n",
      "high school                    0.990338  \n",
      "master's degree                1.000000  \n",
      "some college                   0.991379  \n",
      "some high school               0.972222  \n"
     ]
    }
   ],
   "source": [
    "# Crosstab (proporsi)\n",
    "crosstab = pd.crosstab(df['parental level of education'], df['parenting_behavior'], normalize='index')\n",
    "print(\"Proporsi Parenting Behavior berdasarkan Pendidikan Orang Tua:\\n\")\n",
    "print(crosstab)"
   ]
  },
  {
   "cell_type": "code",
   "execution_count": 34,
   "id": "08a887d5",
   "metadata": {},
   "outputs": [],
   "source": [
    "# ===== Modeling: Prediksi Kelulusan Anak =====\n",
    "\n",
    "# Encode graduated\n",
    "df['graduated_encoded'] = LabelEncoder().fit_transform(df['graduated'])  # yes = 1, no = 0"
   ]
  },
  {
   "cell_type": "code",
   "execution_count": 35,
   "id": "16222c9f",
   "metadata": {},
   "outputs": [],
   "source": [
    "# Fitur prediktor\n",
    "features = ['ACT composite score', 'SAT total score', 'parental income', 'high school gpa', 'college gpa', 'years to graduate']\n",
    "X = df[features]\n",
    "y = df['graduated_encoded']"
   ]
  },
  {
   "cell_type": "code",
   "execution_count": 36,
   "id": "5c7bfdf2",
   "metadata": {},
   "outputs": [],
   "source": [
    "# Scaling (opsional)\n",
    "scaler = StandardScaler()\n",
    "X_scaled = scaler.fit_transform(X)"
   ]
  },
  {
   "cell_type": "code",
   "execution_count": 37,
   "id": "60bc3b97",
   "metadata": {},
   "outputs": [],
   "source": [
    "# Train-Test Split\n",
    "X_train, X_test, y_train, y_test = train_test_split(X_scaled, y, test_size=0.2, random_state=42)"
   ]
  },
  {
   "cell_type": "code",
   "execution_count": 38,
   "id": "d97e67a7",
   "metadata": {},
   "outputs": [],
   "source": [
    "# Model candidates\n",
    "models = {\n",
    "    'Logistic Regression': LogisticRegression(),\n",
    "    'Random Forest': RandomForestClassifier(),\n",
    "    'KNN': KNeighborsClassifier(),\n",
    "    'SVM': SVC()\n",
    "}"
   ]
  },
  {
   "cell_type": "code",
   "execution_count": 39,
   "id": "6e65ce78",
   "metadata": {},
   "outputs": [
    {
     "name": "stdout",
     "output_type": "stream",
     "text": [
      "\n",
      "Model: Logistic Regression\n",
      "Akurasi: 1.0000\n",
      "Classification Report:\n",
      "              precision    recall  f1-score   support\n",
      "\n",
      "           0       1.00      1.00      1.00       120\n",
      "           1       1.00      1.00      1.00        80\n",
      "\n",
      "    accuracy                           1.00       200\n",
      "   macro avg       1.00      1.00      1.00       200\n",
      "weighted avg       1.00      1.00      1.00       200\n",
      "\n",
      "\n",
      "Model: Random Forest\n",
      "Akurasi: 1.0000\n",
      "Classification Report:\n",
      "              precision    recall  f1-score   support\n",
      "\n",
      "           0       1.00      1.00      1.00       120\n",
      "           1       1.00      1.00      1.00        80\n",
      "\n",
      "    accuracy                           1.00       200\n",
      "   macro avg       1.00      1.00      1.00       200\n",
      "weighted avg       1.00      1.00      1.00       200\n",
      "\n",
      "\n",
      "Model: KNN\n",
      "Akurasi: 1.0000\n",
      "Classification Report:\n",
      "              precision    recall  f1-score   support\n",
      "\n",
      "           0       1.00      1.00      1.00       120\n",
      "           1       1.00      1.00      1.00        80\n",
      "\n",
      "    accuracy                           1.00       200\n",
      "   macro avg       1.00      1.00      1.00       200\n",
      "weighted avg       1.00      1.00      1.00       200\n",
      "\n",
      "\n",
      "Model: SVM\n",
      "Akurasi: 1.0000\n",
      "Classification Report:\n",
      "              precision    recall  f1-score   support\n",
      "\n",
      "           0       1.00      1.00      1.00       120\n",
      "           1       1.00      1.00      1.00        80\n",
      "\n",
      "    accuracy                           1.00       200\n",
      "   macro avg       1.00      1.00      1.00       200\n",
      "weighted avg       1.00      1.00      1.00       200\n",
      "\n"
     ]
    }
   ],
   "source": [
    "# Train & evaluate\n",
    "results = []\n",
    "\n",
    "for name, model in models.items():\n",
    "    model.fit(X_train, y_train)\n",
    "    y_pred = model.predict(X_test)\n",
    "    acc = accuracy_score(y_test, y_pred)\n",
    "    results.append((name, acc))\n",
    "    \n",
    "    print(f\"\\nModel: {name}\")\n",
    "    print(f\"Akurasi: {acc:.4f}\")\n",
    "    print(\"Classification Report:\")\n",
    "    print(classification_report(y_test, y_pred))"
   ]
  },
  {
   "cell_type": "code",
   "execution_count": 40,
   "id": "b61b1f7e",
   "metadata": {},
   "outputs": [
    {
     "name": "stdout",
     "output_type": "stream",
     "text": [
      "\n",
      "🔍 Model terbaik: Logistic Regression dengan akurasi 1.0000\n"
     ]
    }
   ],
   "source": [
    "# Tampilkan model dengan akurasi terbaik\n",
    "best_model = max(results, key=lambda x: x[1])\n",
    "print(f\"\\n🔍 Model terbaik: {best_model[0]} dengan akurasi {best_model[1]:.4f}\")"
   ]
  },
  {
   "cell_type": "markdown",
   "id": "80a01129",
   "metadata": {},
   "source": [
    "### Pengaruh Pnedidikan Orang Tua\n",
    "\n",
    "mengevaluasi pengaruh parental level of education terhadap kelulusan."
   ]
  },
  {
   "cell_type": "code",
   "execution_count": 41,
   "id": "24baaab6",
   "metadata": {},
   "outputs": [
    {
     "name": "stdout",
     "output_type": "stream",
     "text": [
      "Rata-rata kelulusan berdasarkan tingkat pendidikan orang tua:\n",
      "parental level of education\n",
      "master's degree       0.617284\n",
      "bachelor's degree     0.500000\n",
      "associate's degree    0.482955\n",
      "some college          0.474138\n",
      "high school           0.376812\n",
      "some high school      0.300000\n",
      "Name: graduated, dtype: float64\n"
     ]
    }
   ],
   "source": [
    "# Rata-rata kelulusan per tingkat pendidikan orang tua\n",
    "df['graduated'] = y  # gabungkan label hasil klasifikasi kembali ke dataframe jika belum\n",
    "\n",
    "edu_graduation_rate = df.groupby('parental level of education')['graduated'].mean().sort_values(ascending=False)\n",
    "\n",
    "print(\"Rata-rata kelulusan berdasarkan tingkat pendidikan orang tua:\")\n",
    "print(edu_graduation_rate)"
   ]
  },
  {
   "cell_type": "code",
   "execution_count": 42,
   "id": "a4068dcc",
   "metadata": {},
   "outputs": [
    {
     "data": {
      "image/png": "[encoded data removed]",
      "text/plain": [
       "<Figure size 640x480 with 1 Axes>"
      ]
     },
     "metadata": {},
     "output_type": "display_data"
    }
   ],
   "source": [
    "# Visualisasi\n",
    "edu_graduation_rate.plot(kind='bar', color='skyblue')\n",
    "plt.title(\"Pengaruh Pendidikan Orang Tua terhadap Kelulusan Anak\")\n",
    "plt.ylabel(\"Proporsi Lulus\")\n",
    "plt.xlabel(\"Tingkat Pendidikan Orang Tua\")\n",
    "plt.xticks(rotation=45)\n",
    "plt.tight_layout()\n",
    "plt.show()"
   ]
  },
  {
   "cell_type": "markdown",
   "id": "02dc66cf",
   "metadata": {},
   "source": [
    "## 📊 Pengaruh Pendidikan Orang Tua terhadap Kelulusan Anak\n",
    "\n",
    "### 🔍 Ringkasan\n",
    "\n",
    "Berdasarkan hasil analisis terhadap dataset yang memuat data pendidikan orang tua dan status kelulusan anak, ditemukan bahwa:\n",
    "\n",
    "- **Semakin tinggi tingkat pendidikan orang tua, semakin tinggi proporsi kelulusan anak.**\n",
    "- Anak-anak dengan orang tua lulusan **Master's Degree** memiliki **proporsi kelulusan tertinggi (sekitar 62%)**.\n",
    "- Sebaliknya, anak dari orang tua dengan pendidikan **Some High School** memiliki **proporsi kelulusan terendah (sekitar 30%)**.\n",
    "\n",
    "### 📈 Urutan Proporsi Kelulusan (Tertinggi ke Terendah)\n",
    "\n",
    "1. `Master's degree` – ~62%\n",
    "2. `Bachelor's degree` – ~50%\n",
    "3. `Associate's degree` – ~48%\n",
    "4. `Some college` – ~47%\n",
    "5. `High school` – ~38%\n",
    "6. `Some high school` – ~30%\n",
    "\n",
    "### 🧠 Interpretasi\n",
    "\n",
    "- **Faktor pendidikan orang tua berpotensi besar memengaruhi pola dukungan akademik, motivasi, dan ekspektasi terhadap anak.**\n",
    "- Pendidikan lebih tinggi pada orang tua kemungkinan meningkatkan keterlibatan aktif dalam pembelajaran anak dan pemahaman pentingnya pendidikan lanjutan.\n",
    "\n",
    "### 📌 Kesimpulan\n",
    "\n",
    "Tingkat pendidikan orang tua merupakan salah satu indikator penting dalam memprediksi kelulusan anak. Kebijakan pendidikan dan program parenting dapat menargetkan intervensi tambahan pada keluarga dengan latar belakang pendidikan rendah untuk meningkatkan outcome anak."
   ]
  },
  {
   "cell_type": "code",
   "execution_count": null,
   "id": "2c1ee201",
   "metadata": {},
   "outputs": [],
   "source": []
  }
 ],
 "metadata": {
  "kernelspec": {
   "display_name": "Python 3",
   "language": "python",
   "name": "python3"
  },
  "language_info": {
   "codemirror_mode": {
    "name": "ipython",
    "version": 3
   },
   "file_extension": ".py",
   "mimetype": "text/x-python",
   "name": "python",
   "nbconvert_exporter": "python",
   "pygments_lexer": "ipython3",
   "version": "3.13.3"
  }
 },
 "nbformat": 4,
 "nbformat_minor": 5
}
