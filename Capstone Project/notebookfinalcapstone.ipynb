{
 "cells": [
  {
   "cell_type": "markdown",
   "id": "7d1740e4",
   "metadata": {},
   "source": [
    "## Import Library"
   ]
  },
  {
   "cell_type": "code",
<<<<<<< HEAD
   "execution_count": 79,
   "id": "a987d1b6",
   "metadata": {},
   "outputs": [],
=======
   "execution_count": 2,
   "id": "a987d1b6",
   "metadata": {},
   "outputs": [
    {
     "name": "stderr",
     "output_type": "stream",
     "text": [
      "Matplotlib is building the font cache; this may take a moment.\n"
     ]
    }
   ],
>>>>>>> origin/master
   "source": [
    "# Import Library\n",
    "import pandas as pd\n",
    "import numpy as np\n",
    "import matplotlib.pyplot as plt\n",
    "import seaborn as sns\n",
    "import re\n",
    "import string\n",
    "from collections import Counter\n",
    "from IPython.display import display\n",
    "from sklearn.feature_extraction.text import TfidfVectorizer, CountVectorizer\n",
    "from sklearn.decomposition import LatentDirichletAllocation\n",
    "from sklearn.preprocessing import LabelEncoder, StandardScaler\n",
    "from sklearn.model_selection import train_test_split\n",
    "from sklearn.ensemble import RandomForestClassifier\n",
    "from sklearn.metrics import classification_report, confusion_matrix\n",
    "import joblib"
   ]
  },
  {
   "cell_type": "markdown",
   "id": "8aee0ee3",
   "metadata": {},
   "source": [
    "## Load Data dan Data Understanding"
   ]
  },
  {
   "cell_type": "code",
<<<<<<< HEAD
   "execution_count": 80,
=======
   "execution_count": 3,
>>>>>>> origin/master
   "id": "20cc067c",
   "metadata": {},
   "outputs": [
    {
     "name": "stdout",
     "output_type": "stream",
     "text": [
      "<class 'pandas.core.frame.DataFrame'>\n",
      "RangeIndex: 3512 entries, 0 to 3511\n",
      "Data columns (total 4 columns):\n",
      " #   Column         Non-Null Count  Dtype \n",
      "---  ------         --------------  ----- \n",
      " 0   Context        3512 non-null   object\n",
      " 1   Response       3508 non-null   object\n",
      " 2   Context_Indo   3512 non-null   object\n",
      " 3   Response_Indo  3512 non-null   object\n",
      "dtypes: object(4)\n",
      "memory usage: 109.9+ KB\n",
      "<class 'pandas.core.frame.DataFrame'>\n",
      "RangeIndex: 480 entries, 0 to 479\n",
      "Data columns (total 17 columns):\n",
      " #   Column                    Non-Null Count  Dtype \n",
      "---  ------                    --------------  ----- \n",
      " 0   gender                    480 non-null    object\n",
      " 1   NationalITy               480 non-null    object\n",
      " 2   PlaceofBirth              480 non-null    object\n",
      " 3   StageID                   480 non-null    object\n",
      " 4   GradeID                   480 non-null    object\n",
      " 5   SectionID                 480 non-null    object\n",
      " 6   Topic                     480 non-null    object\n",
      " 7   Semester                  480 non-null    object\n",
      " 8   Relation                  480 non-null    object\n",
      " 9   raisedhands               480 non-null    int64 \n",
      " 10  VisITedResources          480 non-null    int64 \n",
      " 11  AnnouncementsView         480 non-null    int64 \n",
      " 12  Discussion                480 non-null    int64 \n",
      " 13  ParentAnsweringSurvey     480 non-null    object\n",
      " 14  ParentschoolSatisfaction  480 non-null    object\n",
      " 15  StudentAbsenceDays        480 non-null    object\n",
      " 16  Class                     480 non-null    object\n",
      "dtypes: int64(4), object(13)\n",
      "memory usage: 63.9+ KB\n",
      "<class 'pandas.core.frame.DataFrame'>\n",
      "RangeIndex: 1000 entries, 0 to 999\n",
      "Data columns (total 7 columns):\n",
      " #   Column                       Non-Null Count  Dtype  \n",
      "---  ------                       --------------  -----  \n",
      " 0   ACT composite score          1000 non-null   int64  \n",
      " 1   SAT total score              1000 non-null   int64  \n",
      " 2   parental level of education  1000 non-null   object \n",
      " 3   parental income              1000 non-null   int64  \n",
      " 4   high school gpa              1000 non-null   float64\n",
      " 5   college gpa                  1000 non-null   float64\n",
      " 6   years to graduate            1000 non-null   int64  \n",
      "dtypes: float64(2), int64(4), object(1)\n",
      "memory usage: 54.8+ KB\n"
     ]
    },
    {
     "data": {
      "text/plain": [
       "(                                             Context  \\\n",
       " 0  I'm going through some things with my feelings...   \n",
       " 1  I'm going through some things with my feelings...   \n",
       " 2  I'm going through some things with my feelings...   \n",
       " 3  I'm going through some things with my feelings...   \n",
       " 4  I'm going through some things with my feelings...   \n",
       " \n",
       "                                             Response  \\\n",
       " 0  If everyone thinks you're worthless, then mayb...   \n",
       " 1  Hello, and thank you for your question and see...   \n",
       " 2  First thing I'd suggest is getting the sleep y...   \n",
       " 3  Therapy is essential for those that are feelin...   \n",
       " 4  I first want to let you know that you are not ...   \n",
       " \n",
       "                                         Context_Indo  \\\n",
       " 0  Saya mengalami beberapa hal dengan perasaan da...   \n",
       " 1  Saya mengalami beberapa hal dengan perasaan da...   \n",
       " 2  Saya mengalami beberapa hal dengan perasaan da...   \n",
       " 3  Saya mengalami beberapa hal dengan perasaan da...   \n",
       " 4  Saya mengalami beberapa hal dengan perasaan da...   \n",
       " \n",
       "                                        Response_Indo  \n",
       " 0  Jika semua orang berpikir Anda tidak berharga,...  \n",
       " 1  Halo, dan terima kasih atas pertanyaan Anda da...  \n",
       " 2  Hal pertama yang saya sarankan adalah mendapat...  \n",
       " 3  Terapi sangat penting bagi mereka yang merasa ...  \n",
       " 4  Pertama -tama saya ingin memberi tahu Anda bah...  ,\n",
       "   gender NationalITy PlaceofBirth     StageID GradeID SectionID Topic  \\\n",
       " 0      M          KW       KuwaIT  lowerlevel    G-04         A    IT   \n",
       " 1      M          KW       KuwaIT  lowerlevel    G-04         A    IT   \n",
       " 2      M          KW       KuwaIT  lowerlevel    G-04         A    IT   \n",
       " 3      M          KW       KuwaIT  lowerlevel    G-04         A    IT   \n",
       " 4      M          KW       KuwaIT  lowerlevel    G-04         A    IT   \n",
       " \n",
       "   Semester Relation  raisedhands  VisITedResources  AnnouncementsView  \\\n",
       " 0        F   Father           15                16                  2   \n",
       " 1        F   Father           20                20                  3   \n",
       " 2        F   Father           10                 7                  0   \n",
       " 3        F   Father           30                25                  5   \n",
       " 4        F   Father           40                50                 12   \n",
       " \n",
       "    Discussion ParentAnsweringSurvey ParentschoolSatisfaction  \\\n",
       " 0          20                   Yes                     Good   \n",
       " 1          25                   Yes                     Good   \n",
       " 2          30                    No                      Bad   \n",
       " 3          35                    No                      Bad   \n",
       " 4          50                    No                      Bad   \n",
       " \n",
       "   StudentAbsenceDays Class  \n",
       " 0            Under-7     M  \n",
       " 1            Under-7     M  \n",
       " 2            Above-7     L  \n",
       " 3            Above-7     L  \n",
       " 4            Above-7     M  ,\n",
       "    ACT composite score  SAT total score parental level of education  \\\n",
       " 0                   22             1625                 high school   \n",
       " 1                   29             2090          associate's degree   \n",
       " 2                   30             2188           bachelor's degree   \n",
       " 3                   33             2151          associate's degree   \n",
       " 4                   29             2050          associate's degree   \n",
       " \n",
       "    parental income  high school gpa  college gpa  years to graduate  \n",
       " 0            40999              3.0          3.1                  7  \n",
       " 1            75817              4.0          3.4                  5  \n",
       " 2            82888              4.0          3.9                  3  \n",
       " 3            93518              4.0          3.7                  5  \n",
       " 4            79153              4.0          3.4                  6  ,\n",
       " {'train_translated': (3512, 4),\n",
       "  'parenting_prestasi': (480, 17),\n",
       "  'graduation_rate': (1000, 7)})"
      ]
     },
<<<<<<< HEAD
     "execution_count": 80,
=======
     "execution_count": 3,
>>>>>>> origin/master
     "metadata": {},
     "output_type": "execute_result"
    }
   ],
   "source": [
    "# Load all datasets\n",
    "train      = pd.read_csv(\"train_translated.csv\")\n",
    "prestasi   = pd.read_csv(\"parenting_prestasi.csv\")\n",
    "graduation = pd.read_csv(\"graduation_rate.csv\")\n",
    "\n",
    "# Preview the first rows\n",
    "train_preview = train.head()\n",
    "prestasi_preview = prestasi.head()\n",
    "graduation_preview = graduation.head()\n",
    "\n",
    "train_info = train.info()\n",
    "prestasi_info = prestasi.info()\n",
    "graduation_info = graduation.info()\n",
    "\n",
    "# Show shape of each dataset\n",
    "shapes = {\n",
    "    \"train_translated\": train.shape,\n",
    "    \"parenting_prestasi\": prestasi.shape,\n",
    "    \"graduation_rate\": graduation.shape\n",
    "}\n",
    "\n",
    "(train_preview, prestasi_preview, graduation_preview, shapes)"
   ]
  },
  {
   "cell_type": "markdown",
   "id": "27a10fac",
   "metadata": {},
   "source": [
    "## Insight\n",
    "### 1. train_translated.csv\n",
    "- **Jumlah data: 3512 baris, 4 kolom**\n",
    "- Kolom penting:\n",
    "  - `Context_Indo`: Teks pertanyaan atau curhat dalam Bahasa Indonesia\n",
    "  - `Response_Indo`: Teks jawaban/respons dalam Bahasa Indonesia\n",
    "- Tujuan potensial: Digunakan sebagai data percakapan atau basis klasifikasi berdasarkan isi curhatan untuk memetakan ke tipe parenting.\n",
    "\n",
    "### 2. parenting_prestasi.csv\n",
    "- **Jumlah data: 480 baris, 17 kolom**\n",
    "- Berisi: Data performa belajar siswa dan keterlibatan orang tua.\n",
    "- Fitur penting:\n",
    "  - `raisedhands`, `VisitedResources`, `Discussion`: Indikator keaktifan siswa.\n",
    "  - `ParentAnsweringSurvey`, `ParentschoolSatisfaction`: Indikator kepedulian orang tua.\n",
    "- `Class`: Label kelas performa siswa (L, M, H).\n",
    "\n",
    "### 3. graduation_rate.csv\n",
    "- **Jumlah data: 1000 baris, 7 kolom**\n",
    "- Berisi: Data kelulusan berdasarkan latar belakang orang tua dan capaian akademik.\n",
    "- Fitur penting:\n",
    "  - parental level of education, parental income\n",
    "  - high school gpa, college gpa\n",
    "  - years to graduate: Durasi studi sebagai indikator performa akhir."
   ]
  },
  {
   "cell_type": "markdown",
   "id": "982d13a5",
   "metadata": {},
   "source": [
    "## Cleaning Data"
   ]
  },
  {
   "cell_type": "code",
<<<<<<< HEAD
   "execution_count": 81,
=======
   "execution_count": 4,
>>>>>>> origin/master
   "id": "9823b87d",
   "metadata": {},
   "outputs": [
    {
     "name": "stdout",
     "output_type": "stream",
     "text": [
      "\n",
      "=== Jumlah Duplicate Rows Sebelum Dihapus ===\n",
      "train     : 729\n",
      "prestasi  : 2\n",
      "graduation: 0\n",
      "\n",
      "✅ Duplicate rows dihapus.\n"
     ]
    }
   ],
   "source": [
    "# 1. Cek & Hapus Duplicate Rows\n",
    "print(\"\\n=== Jumlah Duplicate Rows Sebelum Dihapus ===\")\n",
    "print(\"train     :\", train.duplicated().sum())\n",
    "print(\"prestasi  :\", prestasi.duplicated().sum())\n",
    "print(\"graduation:\", graduation.duplicated().sum())\n",
    "\n",
    "train = train.drop_duplicates().reset_index(drop=True)\n",
    "prestasi = prestasi.drop_duplicates().reset_index(drop=True)\n",
    "graduation = graduation.drop_duplicates().reset_index(drop=True)\n",
    "\n",
    "print(\"\\n✅ Duplicate rows dihapus.\")"
   ]
  },
  {
   "cell_type": "code",
<<<<<<< HEAD
   "execution_count": 82,
=======
   "execution_count": 5,
>>>>>>> origin/master
   "id": "88cd7f02",
   "metadata": {},
   "outputs": [
    {
     "name": "stdout",
     "output_type": "stream",
     "text": [
      "\n",
      "Missing Value pada Dataset: train_translated\n",
      "Response    4\n",
      "dtype: int64\n",
      "\n",
      "Missing Value pada Dataset: parenting_prestasi\n",
      "Series([], dtype: int64)\n",
      "\n",
      "Missing Value pada Dataset: graduation_rate\n",
      "Series([], dtype: int64)\n"
     ]
    }
   ],
   "source": [
    "# 2. Cek Missing Value\n",
    "def check_missing_values(df, df_name):\n",
    "    print(f\"\\nMissing Value pada Dataset: {df_name}\")\n",
    "    missing = df.isnull().sum()\n",
    "    print(missing[missing > 0])\n",
    "\n",
    "# Cek masing-masing dataset\n",
    "check_missing_values(train, 'train_translated')\n",
    "check_missing_values(prestasi, 'parenting_prestasi')\n",
    "check_missing_values(graduation, 'graduation_rate')"
   ]
  },
  {
   "cell_type": "code",
<<<<<<< HEAD
   "execution_count": 83,
=======
   "execution_count": 6,
>>>>>>> origin/master
   "id": "210bf8ff",
   "metadata": {},
   "outputs": [],
   "source": [
    "# 3. Menangani Missing Value\n",
    "# TRAIN\n",
    "train.dropna(subset=['Response'], inplace=True)"
   ]
  },
  {
   "cell_type": "code",
<<<<<<< HEAD
   "execution_count": 84,
=======
   "execution_count": 7,
>>>>>>> origin/master
   "id": "331a08c4",
   "metadata": {},
   "outputs": [
    {
     "name": "stdout",
     "output_type": "stream",
     "text": [
      "\n",
      "Missing Value pada Dataset: train_translated (cleaned)\n",
      "Series([], dtype: int64)\n",
      "\n",
      "Missing Value pada Dataset: parenting_prestasi (cleaned)\n",
      "Series([], dtype: int64)\n",
      "\n",
      "Missing Value pada Dataset: graduation_rate (cleaned)\n",
      "Series([], dtype: int64)\n"
     ]
    }
   ],
   "source": [
    "# 4. Konfirmasi Penanganan Missing Value\n",
    "# Ulang cek missing value\n",
    "check_missing_values(train, 'train_translated (cleaned)')\n",
    "check_missing_values(prestasi, 'parenting_prestasi (cleaned)')\n",
    "check_missing_values(graduation, 'graduation_rate (cleaned)')"
   ]
  },
  {
   "cell_type": "code",
<<<<<<< HEAD
   "execution_count": 85,
=======
   "execution_count": 8,
>>>>>>> origin/master
   "id": "712c5b24",
   "metadata": {},
   "outputs": [],
   "source": [
    "# Untuk prestasi, misalnya kolom 'Topic' atau 'Relation'\n",
    "text_col_prestasi = 'Topic'  # ganti dengan nama kolom yang benar-benar teks\n",
    "\n",
    "# Untuk graduation, misalnya tidak ada kolom teks asli → buat kolom manual\n",
    "graduation['pertanyaan'] = graduation.apply(\n",
    "    lambda row: f\"Student with GPA {row['college gpa']} graduated in {row['years to graduate']} years\", axis=1\n",
    ")\n",
    "text_col_grad = 'pertanyaan'"
   ]
  },
  {
   "cell_type": "code",
<<<<<<< HEAD
   "execution_count": 86,
=======
   "execution_count": 9,
>>>>>>> origin/master
   "id": "e16b4dea",
   "metadata": {},
   "outputs": [],
   "source": [
    "# 6. Stopwords Indonesia sederhana (bisa diganti Sastrawi/NLTK versi lengkap)\n",
    "stopwords = set([\n",
    "    \"yang\", \"dan\", \"di\", \"ke\", \"dari\", \"adalah\", \"itu\", \"untuk\", \"dengan\", \"saya\",\n",
    "    \"kamu\", \"tidak\", \"apa\", \"bagaimana\", \"kenapa\", \"mengapa\", \"ya\", \"bisa\",\n",
    "    \"karena\", \"jadi\", \"pada\", \"oleh\", \"sebagai\", \"mereka\", \"kita\", \"akan\", \"dalam\"\n",
    "])"
   ]
  },
  {
   "cell_type": "code",
<<<<<<< HEAD
   "execution_count": 87,
=======
   "execution_count": 10,
>>>>>>> origin/master
   "id": "9a0fe573",
   "metadata": {},
   "outputs": [],
   "source": [
    "# 7. Fungsi cleaning teks\n",
    "def clean_text_advanced(text):\n",
    "    if pd.isnull(text): return \"\"\n",
    "    text = str(text).lower()\n",
    "    text = re.sub(r\"http\\S+\", \"\", text)              # hapus URL\n",
    "    text = re.sub(r\"@\\w+\", \"\", text)                 # hapus mention\n",
    "    text = re.sub(r\"#\\w+\", \"\", text)                 # hapus hashtag\n",
    "    text = re.sub(r\"\\d+\", \"\", text)                  # hapus angka\n",
    "    text = re.sub(r\"[^\\x00-\\x7F]+\", \" \", text)       # hapus emoji dan karakter non-ASCII\n",
    "    text = re.sub(r\"[^\\w\\s]\", \"\", text)              # hapus tanda baca\n",
    "    text = re.sub(r\"\\s+\", \" \", text).strip()         # hapus spasi berlebih\n",
    "    tokens = text.split()\n",
    "    tokens = [word for word in tokens if word not in stopwords]\n",
    "    return \" \".join(tokens)"
   ]
  },
  {
   "cell_type": "code",
<<<<<<< HEAD
   "execution_count": 88,
=======
   "execution_count": 11,
>>>>>>> origin/master
   "id": "059e007c",
   "metadata": {},
   "outputs": [],
   "source": [
    "# 8. Cleaning Dataset 1: train_translated.csv\n",
    "if 'Context_Indo' in train.columns:\n",
    "    train['cleaned_context'] = train['Context_Indo'].apply(clean_text_advanced)\n",
    "else:\n",
    "    raise ValueError(\"Kolom 'Context_Indo' tidak ditemukan di dataset train\")\n",
    "\n",
    "# 9. Cleaning Dataset 2: parenting_prestasi.csv\n",
    "text_col_prestasi = 'pertanyaan' if 'pertanyaan' in prestasi.columns else prestasi.columns[0]\n",
    "prestasi['cleaned_text'] = prestasi[text_col_prestasi].apply(clean_text_advanced)\n",
    "\n",
    "# 10. Cleaning Dataset 3: graduation_rate.csv\n",
    "text_col_grad = 'pertanyaan' if 'pertanyaan' in graduation.columns else graduation.columns[0]\n",
    "graduation['cleaned_text'] = graduation[text_col_grad].apply(clean_text_advanced)"
   ]
  },
  {
   "cell_type": "code",
<<<<<<< HEAD
   "execution_count": 89,
=======
   "execution_count": 12,
>>>>>>> origin/master
   "id": "d68aeba2",
   "metadata": {},
   "outputs": [
    {
     "name": "stdout",
     "output_type": "stream",
     "text": [
      "=== Contoh Cleaning Dataset train ===\n",
      "                                        Context_Indo  \\\n",
      "0  Saya mengalami beberapa hal dengan perasaan da...   \n",
      "1  Saya mengalami beberapa hal dengan perasaan da...   \n",
      "2  Saya mengalami beberapa hal dengan perasaan da...   \n",
      "\n",
      "                                     cleaned_context  \n",
      "0  mengalami beberapa hal perasaan diri sendiri n...  \n",
      "1  mengalami beberapa hal perasaan diri sendiri n...  \n",
      "2  mengalami beberapa hal perasaan diri sendiri n...  \n",
      "\n",
      "=== Contoh Cleaning Dataset prestasi ===\n",
      "  gender cleaned_text\n",
      "0      M            m\n",
      "1      M            m\n",
      "2      M            m\n",
      "\n",
      "=== Contoh Cleaning Dataset graduation ===\n",
      "                                  pertanyaan  \\\n",
      "0  Student with GPA 3.1 graduated in 7 years   \n",
      "1  Student with GPA 3.4 graduated in 5 years   \n",
      "2  Student with GPA 3.9 graduated in 3 years   \n",
      "\n",
      "                          cleaned_text  \n",
      "0  student with gpa graduated in years  \n",
      "1  student with gpa graduated in years  \n",
      "2  student with gpa graduated in years  \n"
     ]
    }
   ],
   "source": [
    "# 11. Cek hasil pembersihan\n",
    "print(\"=== Contoh Cleaning Dataset train ===\")\n",
    "print(train[['Context_Indo', 'cleaned_context']].head(3))\n",
    "\n",
    "print(\"\\n=== Contoh Cleaning Dataset prestasi ===\")\n",
    "print(prestasi[[text_col_prestasi, 'cleaned_text']].head(3))\n",
    "\n",
    "print(\"\\n=== Contoh Cleaning Dataset graduation ===\")\n",
    "print(graduation[[text_col_grad, 'cleaned_text']].head(3))"
   ]
  },
  {
   "cell_type": "code",
<<<<<<< HEAD
   "execution_count": 90,
=======
   "execution_count": 13,
>>>>>>> origin/master
   "id": "f4026f44",
   "metadata": {},
   "outputs": [
    {
     "data": {
      "text/html": [
<<<<<<< HEAD
       "<style>#sk-container-id-6 {\n",
=======
       "<style>#sk-container-id-1 {\n",
>>>>>>> origin/master
       "  /* Definition of color scheme common for light and dark mode */\n",
       "  --sklearn-color-text: #000;\n",
       "  --sklearn-color-text-muted: #666;\n",
       "  --sklearn-color-line: gray;\n",
       "  /* Definition of color scheme for unfitted estimators */\n",
       "  --sklearn-color-unfitted-level-0: #fff5e6;\n",
       "  --sklearn-color-unfitted-level-1: #f6e4d2;\n",
       "  --sklearn-color-unfitted-level-2: #ffe0b3;\n",
       "  --sklearn-color-unfitted-level-3: chocolate;\n",
       "  /* Definition of color scheme for fitted estimators */\n",
       "  --sklearn-color-fitted-level-0: #f0f8ff;\n",
       "  --sklearn-color-fitted-level-1: #d4ebff;\n",
       "  --sklearn-color-fitted-level-2: #b3dbfd;\n",
       "  --sklearn-color-fitted-level-3: cornflowerblue;\n",
       "\n",
       "  /* Specific color for light theme */\n",
       "  --sklearn-color-text-on-default-background: var(--sg-text-color, var(--theme-code-foreground, var(--jp-content-font-color1, black)));\n",
       "  --sklearn-color-background: var(--sg-background-color, var(--theme-background, var(--jp-layout-color0, white)));\n",
       "  --sklearn-color-border-box: var(--sg-text-color, var(--theme-code-foreground, var(--jp-content-font-color1, black)));\n",
       "  --sklearn-color-icon: #696969;\n",
       "\n",
       "  @media (prefers-color-scheme: dark) {\n",
       "    /* Redefinition of color scheme for dark theme */\n",
       "    --sklearn-color-text-on-default-background: var(--sg-text-color, var(--theme-code-foreground, var(--jp-content-font-color1, white)));\n",
       "    --sklearn-color-background: var(--sg-background-color, var(--theme-background, var(--jp-layout-color0, #111)));\n",
       "    --sklearn-color-border-box: var(--sg-text-color, var(--theme-code-foreground, var(--jp-content-font-color1, white)));\n",
       "    --sklearn-color-icon: #878787;\n",
       "  }\n",
       "}\n",
       "\n",
<<<<<<< HEAD
       "#sk-container-id-6 {\n",
       "  color: var(--sklearn-color-text);\n",
       "}\n",
       "\n",
       "#sk-container-id-6 pre {\n",
       "  padding: 0;\n",
       "}\n",
       "\n",
       "#sk-container-id-6 input.sk-hidden--visually {\n",
=======
       "#sk-container-id-1 {\n",
       "  color: var(--sklearn-color-text);\n",
       "}\n",
       "\n",
       "#sk-container-id-1 pre {\n",
       "  padding: 0;\n",
       "}\n",
       "\n",
       "#sk-container-id-1 input.sk-hidden--visually {\n",
>>>>>>> origin/master
       "  border: 0;\n",
       "  clip: rect(1px 1px 1px 1px);\n",
       "  clip: rect(1px, 1px, 1px, 1px);\n",
       "  height: 1px;\n",
       "  margin: -1px;\n",
       "  overflow: hidden;\n",
       "  padding: 0;\n",
       "  position: absolute;\n",
       "  width: 1px;\n",
       "}\n",
       "\n",
<<<<<<< HEAD
       "#sk-container-id-6 div.sk-dashed-wrapped {\n",
=======
       "#sk-container-id-1 div.sk-dashed-wrapped {\n",
>>>>>>> origin/master
       "  border: 1px dashed var(--sklearn-color-line);\n",
       "  margin: 0 0.4em 0.5em 0.4em;\n",
       "  box-sizing: border-box;\n",
       "  padding-bottom: 0.4em;\n",
       "  background-color: var(--sklearn-color-background);\n",
       "}\n",
       "\n",
<<<<<<< HEAD
       "#sk-container-id-6 div.sk-container {\n",
=======
       "#sk-container-id-1 div.sk-container {\n",
>>>>>>> origin/master
       "  /* jupyter's `normalize.less` sets `[hidden] { display: none; }`\n",
       "     but bootstrap.min.css set `[hidden] { display: none !important; }`\n",
       "     so we also need the `!important` here to be able to override the\n",
       "     default hidden behavior on the sphinx rendered scikit-learn.org.\n",
       "     See: https://github.com/scikit-learn/scikit-learn/issues/21755 */\n",
       "  display: inline-block !important;\n",
       "  position: relative;\n",
       "}\n",
       "\n",
<<<<<<< HEAD
       "#sk-container-id-6 div.sk-text-repr-fallback {\n",
=======
       "#sk-container-id-1 div.sk-text-repr-fallback {\n",
>>>>>>> origin/master
       "  display: none;\n",
       "}\n",
       "\n",
       "div.sk-parallel-item,\n",
       "div.sk-serial,\n",
       "div.sk-item {\n",
       "  /* draw centered vertical line to link estimators */\n",
       "  background-image: linear-gradient(var(--sklearn-color-text-on-default-background), var(--sklearn-color-text-on-default-background));\n",
       "  background-size: 2px 100%;\n",
       "  background-repeat: no-repeat;\n",
       "  background-position: center center;\n",
       "}\n",
       "\n",
       "/* Parallel-specific style estimator block */\n",
       "\n",
<<<<<<< HEAD
       "#sk-container-id-6 div.sk-parallel-item::after {\n",
=======
       "#sk-container-id-1 div.sk-parallel-item::after {\n",
>>>>>>> origin/master
       "  content: \"\";\n",
       "  width: 100%;\n",
       "  border-bottom: 2px solid var(--sklearn-color-text-on-default-background);\n",
       "  flex-grow: 1;\n",
       "}\n",
       "\n",
<<<<<<< HEAD
       "#sk-container-id-6 div.sk-parallel {\n",
=======
       "#sk-container-id-1 div.sk-parallel {\n",
>>>>>>> origin/master
       "  display: flex;\n",
       "  align-items: stretch;\n",
       "  justify-content: center;\n",
       "  background-color: var(--sklearn-color-background);\n",
       "  position: relative;\n",
       "}\n",
       "\n",
<<<<<<< HEAD
       "#sk-container-id-6 div.sk-parallel-item {\n",
=======
       "#sk-container-id-1 div.sk-parallel-item {\n",
>>>>>>> origin/master
       "  display: flex;\n",
       "  flex-direction: column;\n",
       "}\n",
       "\n",
<<<<<<< HEAD
       "#sk-container-id-6 div.sk-parallel-item:first-child::after {\n",
=======
       "#sk-container-id-1 div.sk-parallel-item:first-child::after {\n",
>>>>>>> origin/master
       "  align-self: flex-end;\n",
       "  width: 50%;\n",
       "}\n",
       "\n",
<<<<<<< HEAD
       "#sk-container-id-6 div.sk-parallel-item:last-child::after {\n",
=======
       "#sk-container-id-1 div.sk-parallel-item:last-child::after {\n",
>>>>>>> origin/master
       "  align-self: flex-start;\n",
       "  width: 50%;\n",
       "}\n",
       "\n",
<<<<<<< HEAD
       "#sk-container-id-6 div.sk-parallel-item:only-child::after {\n",
=======
       "#sk-container-id-1 div.sk-parallel-item:only-child::after {\n",
>>>>>>> origin/master
       "  width: 0;\n",
       "}\n",
       "\n",
       "/* Serial-specific style estimator block */\n",
       "\n",
<<<<<<< HEAD
       "#sk-container-id-6 div.sk-serial {\n",
=======
       "#sk-container-id-1 div.sk-serial {\n",
>>>>>>> origin/master
       "  display: flex;\n",
       "  flex-direction: column;\n",
       "  align-items: center;\n",
       "  background-color: var(--sklearn-color-background);\n",
       "  padding-right: 1em;\n",
       "  padding-left: 1em;\n",
       "}\n",
       "\n",
       "\n",
       "/* Toggleable style: style used for estimator/Pipeline/ColumnTransformer box that is\n",
       "clickable and can be expanded/collapsed.\n",
       "- Pipeline and ColumnTransformer use this feature and define the default style\n",
       "- Estimators will overwrite some part of the style using the `sk-estimator` class\n",
       "*/\n",
       "\n",
       "/* Pipeline and ColumnTransformer style (default) */\n",
       "\n",
<<<<<<< HEAD
       "#sk-container-id-6 div.sk-toggleable {\n",
=======
       "#sk-container-id-1 div.sk-toggleable {\n",
>>>>>>> origin/master
       "  /* Default theme specific background. It is overwritten whether we have a\n",
       "  specific estimator or a Pipeline/ColumnTransformer */\n",
       "  background-color: var(--sklearn-color-background);\n",
       "}\n",
       "\n",
       "/* Toggleable label */\n",
<<<<<<< HEAD
       "#sk-container-id-6 label.sk-toggleable__label {\n",
=======
       "#sk-container-id-1 label.sk-toggleable__label {\n",
>>>>>>> origin/master
       "  cursor: pointer;\n",
       "  display: flex;\n",
       "  width: 100%;\n",
       "  margin-bottom: 0;\n",
       "  padding: 0.5em;\n",
       "  box-sizing: border-box;\n",
       "  text-align: center;\n",
       "  align-items: start;\n",
       "  justify-content: space-between;\n",
       "  gap: 0.5em;\n",
       "}\n",
       "\n",
<<<<<<< HEAD
       "#sk-container-id-6 label.sk-toggleable__label .caption {\n",
=======
       "#sk-container-id-1 label.sk-toggleable__label .caption {\n",
>>>>>>> origin/master
       "  font-size: 0.6rem;\n",
       "  font-weight: lighter;\n",
       "  color: var(--sklearn-color-text-muted);\n",
       "}\n",
       "\n",
<<<<<<< HEAD
       "#sk-container-id-6 label.sk-toggleable__label-arrow:before {\n",
=======
       "#sk-container-id-1 label.sk-toggleable__label-arrow:before {\n",
>>>>>>> origin/master
       "  /* Arrow on the left of the label */\n",
       "  content: \"▸\";\n",
       "  float: left;\n",
       "  margin-right: 0.25em;\n",
       "  color: var(--sklearn-color-icon);\n",
       "}\n",
       "\n",
<<<<<<< HEAD
       "#sk-container-id-6 label.sk-toggleable__label-arrow:hover:before {\n",
=======
       "#sk-container-id-1 label.sk-toggleable__label-arrow:hover:before {\n",
>>>>>>> origin/master
       "  color: var(--sklearn-color-text);\n",
       "}\n",
       "\n",
       "/* Toggleable content - dropdown */\n",
       "\n",
<<<<<<< HEAD
       "#sk-container-id-6 div.sk-toggleable__content {\n",
       "  max-height: 0;\n",
       "  max-width: 0;\n",
       "  overflow: hidden;\n",
=======
       "#sk-container-id-1 div.sk-toggleable__content {\n",
       "  display: none;\n",
>>>>>>> origin/master
       "  text-align: left;\n",
       "  /* unfitted */\n",
       "  background-color: var(--sklearn-color-unfitted-level-0);\n",
       "}\n",
       "\n",
<<<<<<< HEAD
       "#sk-container-id-6 div.sk-toggleable__content.fitted {\n",
=======
       "#sk-container-id-1 div.sk-toggleable__content.fitted {\n",
>>>>>>> origin/master
       "  /* fitted */\n",
       "  background-color: var(--sklearn-color-fitted-level-0);\n",
       "}\n",
       "\n",
<<<<<<< HEAD
       "#sk-container-id-6 div.sk-toggleable__content pre {\n",
=======
       "#sk-container-id-1 div.sk-toggleable__content pre {\n",
>>>>>>> origin/master
       "  margin: 0.2em;\n",
       "  border-radius: 0.25em;\n",
       "  color: var(--sklearn-color-text);\n",
       "  /* unfitted */\n",
       "  background-color: var(--sklearn-color-unfitted-level-0);\n",
       "}\n",
       "\n",
<<<<<<< HEAD
       "#sk-container-id-6 div.sk-toggleable__content.fitted pre {\n",
=======
       "#sk-container-id-1 div.sk-toggleable__content.fitted pre {\n",
>>>>>>> origin/master
       "  /* unfitted */\n",
       "  background-color: var(--sklearn-color-fitted-level-0);\n",
       "}\n",
       "\n",
<<<<<<< HEAD
       "#sk-container-id-6 input.sk-toggleable__control:checked~div.sk-toggleable__content {\n",
       "  /* Expand drop-down */\n",
       "  max-height: 200px;\n",
       "  max-width: 100%;\n",
       "  overflow: auto;\n",
       "}\n",
       "\n",
       "#sk-container-id-6 input.sk-toggleable__control:checked~label.sk-toggleable__label-arrow:before {\n",
=======
       "#sk-container-id-1 input.sk-toggleable__control:checked~div.sk-toggleable__content {\n",
       "  /* Expand drop-down */\n",
       "  display: block;\n",
       "  width: 100%;\n",
       "  overflow: visible;\n",
       "}\n",
       "\n",
       "#sk-container-id-1 input.sk-toggleable__control:checked~label.sk-toggleable__label-arrow:before {\n",
>>>>>>> origin/master
       "  content: \"▾\";\n",
       "}\n",
       "\n",
       "/* Pipeline/ColumnTransformer-specific style */\n",
       "\n",
<<<<<<< HEAD
       "#sk-container-id-6 div.sk-label input.sk-toggleable__control:checked~label.sk-toggleable__label {\n",
=======
       "#sk-container-id-1 div.sk-label input.sk-toggleable__control:checked~label.sk-toggleable__label {\n",
>>>>>>> origin/master
       "  color: var(--sklearn-color-text);\n",
       "  background-color: var(--sklearn-color-unfitted-level-2);\n",
       "}\n",
       "\n",
<<<<<<< HEAD
       "#sk-container-id-6 div.sk-label.fitted input.sk-toggleable__control:checked~label.sk-toggleable__label {\n",
=======
       "#sk-container-id-1 div.sk-label.fitted input.sk-toggleable__control:checked~label.sk-toggleable__label {\n",
>>>>>>> origin/master
       "  background-color: var(--sklearn-color-fitted-level-2);\n",
       "}\n",
       "\n",
       "/* Estimator-specific style */\n",
       "\n",
       "/* Colorize estimator box */\n",
<<<<<<< HEAD
       "#sk-container-id-6 div.sk-estimator input.sk-toggleable__control:checked~label.sk-toggleable__label {\n",
=======
       "#sk-container-id-1 div.sk-estimator input.sk-toggleable__control:checked~label.sk-toggleable__label {\n",
>>>>>>> origin/master
       "  /* unfitted */\n",
       "  background-color: var(--sklearn-color-unfitted-level-2);\n",
       "}\n",
       "\n",
<<<<<<< HEAD
       "#sk-container-id-6 div.sk-estimator.fitted input.sk-toggleable__control:checked~label.sk-toggleable__label {\n",
=======
       "#sk-container-id-1 div.sk-estimator.fitted input.sk-toggleable__control:checked~label.sk-toggleable__label {\n",
>>>>>>> origin/master
       "  /* fitted */\n",
       "  background-color: var(--sklearn-color-fitted-level-2);\n",
       "}\n",
       "\n",
<<<<<<< HEAD
       "#sk-container-id-6 div.sk-label label.sk-toggleable__label,\n",
       "#sk-container-id-6 div.sk-label label {\n",
=======
       "#sk-container-id-1 div.sk-label label.sk-toggleable__label,\n",
       "#sk-container-id-1 div.sk-label label {\n",
>>>>>>> origin/master
       "  /* The background is the default theme color */\n",
       "  color: var(--sklearn-color-text-on-default-background);\n",
       "}\n",
       "\n",
       "/* On hover, darken the color of the background */\n",
<<<<<<< HEAD
       "#sk-container-id-6 div.sk-label:hover label.sk-toggleable__label {\n",
=======
       "#sk-container-id-1 div.sk-label:hover label.sk-toggleable__label {\n",
>>>>>>> origin/master
       "  color: var(--sklearn-color-text);\n",
       "  background-color: var(--sklearn-color-unfitted-level-2);\n",
       "}\n",
       "\n",
       "/* Label box, darken color on hover, fitted */\n",
<<<<<<< HEAD
       "#sk-container-id-6 div.sk-label.fitted:hover label.sk-toggleable__label.fitted {\n",
=======
       "#sk-container-id-1 div.sk-label.fitted:hover label.sk-toggleable__label.fitted {\n",
>>>>>>> origin/master
       "  color: var(--sklearn-color-text);\n",
       "  background-color: var(--sklearn-color-fitted-level-2);\n",
       "}\n",
       "\n",
       "/* Estimator label */\n",
       "\n",
<<<<<<< HEAD
       "#sk-container-id-6 div.sk-label label {\n",
=======
       "#sk-container-id-1 div.sk-label label {\n",
>>>>>>> origin/master
       "  font-family: monospace;\n",
       "  font-weight: bold;\n",
       "  display: inline-block;\n",
       "  line-height: 1.2em;\n",
       "}\n",
       "\n",
<<<<<<< HEAD
       "#sk-container-id-6 div.sk-label-container {\n",
=======
       "#sk-container-id-1 div.sk-label-container {\n",
>>>>>>> origin/master
       "  text-align: center;\n",
       "}\n",
       "\n",
       "/* Estimator-specific */\n",
<<<<<<< HEAD
       "#sk-container-id-6 div.sk-estimator {\n",
=======
       "#sk-container-id-1 div.sk-estimator {\n",
>>>>>>> origin/master
       "  font-family: monospace;\n",
       "  border: 1px dotted var(--sklearn-color-border-box);\n",
       "  border-radius: 0.25em;\n",
       "  box-sizing: border-box;\n",
       "  margin-bottom: 0.5em;\n",
       "  /* unfitted */\n",
       "  background-color: var(--sklearn-color-unfitted-level-0);\n",
       "}\n",
       "\n",
<<<<<<< HEAD
       "#sk-container-id-6 div.sk-estimator.fitted {\n",
=======
       "#sk-container-id-1 div.sk-estimator.fitted {\n",
>>>>>>> origin/master
       "  /* fitted */\n",
       "  background-color: var(--sklearn-color-fitted-level-0);\n",
       "}\n",
       "\n",
       "/* on hover */\n",
<<<<<<< HEAD
       "#sk-container-id-6 div.sk-estimator:hover {\n",
=======
       "#sk-container-id-1 div.sk-estimator:hover {\n",
>>>>>>> origin/master
       "  /* unfitted */\n",
       "  background-color: var(--sklearn-color-unfitted-level-2);\n",
       "}\n",
       "\n",
<<<<<<< HEAD
       "#sk-container-id-6 div.sk-estimator.fitted:hover {\n",
=======
       "#sk-container-id-1 div.sk-estimator.fitted:hover {\n",
>>>>>>> origin/master
       "  /* fitted */\n",
       "  background-color: var(--sklearn-color-fitted-level-2);\n",
       "}\n",
       "\n",
       "/* Specification for estimator info (e.g. \"i\" and \"?\") */\n",
       "\n",
       "/* Common style for \"i\" and \"?\" */\n",
       "\n",
       ".sk-estimator-doc-link,\n",
       "a:link.sk-estimator-doc-link,\n",
       "a:visited.sk-estimator-doc-link {\n",
       "  float: right;\n",
       "  font-size: smaller;\n",
       "  line-height: 1em;\n",
       "  font-family: monospace;\n",
       "  background-color: var(--sklearn-color-background);\n",
       "  border-radius: 1em;\n",
       "  height: 1em;\n",
       "  width: 1em;\n",
       "  text-decoration: none !important;\n",
       "  margin-left: 0.5em;\n",
       "  text-align: center;\n",
       "  /* unfitted */\n",
       "  border: var(--sklearn-color-unfitted-level-1) 1pt solid;\n",
       "  color: var(--sklearn-color-unfitted-level-1);\n",
       "}\n",
       "\n",
       ".sk-estimator-doc-link.fitted,\n",
       "a:link.sk-estimator-doc-link.fitted,\n",
       "a:visited.sk-estimator-doc-link.fitted {\n",
       "  /* fitted */\n",
       "  border: var(--sklearn-color-fitted-level-1) 1pt solid;\n",
       "  color: var(--sklearn-color-fitted-level-1);\n",
       "}\n",
       "\n",
       "/* On hover */\n",
       "div.sk-estimator:hover .sk-estimator-doc-link:hover,\n",
       ".sk-estimator-doc-link:hover,\n",
       "div.sk-label-container:hover .sk-estimator-doc-link:hover,\n",
       ".sk-estimator-doc-link:hover {\n",
       "  /* unfitted */\n",
       "  background-color: var(--sklearn-color-unfitted-level-3);\n",
       "  color: var(--sklearn-color-background);\n",
       "  text-decoration: none;\n",
       "}\n",
       "\n",
       "div.sk-estimator.fitted:hover .sk-estimator-doc-link.fitted:hover,\n",
       ".sk-estimator-doc-link.fitted:hover,\n",
       "div.sk-label-container:hover .sk-estimator-doc-link.fitted:hover,\n",
       ".sk-estimator-doc-link.fitted:hover {\n",
       "  /* fitted */\n",
       "  background-color: var(--sklearn-color-fitted-level-3);\n",
       "  color: var(--sklearn-color-background);\n",
       "  text-decoration: none;\n",
       "}\n",
       "\n",
       "/* Span, style for the box shown on hovering the info icon */\n",
       ".sk-estimator-doc-link span {\n",
       "  display: none;\n",
       "  z-index: 9999;\n",
       "  position: relative;\n",
       "  font-weight: normal;\n",
       "  right: .2ex;\n",
       "  padding: .5ex;\n",
       "  margin: .5ex;\n",
       "  width: min-content;\n",
       "  min-width: 20ex;\n",
       "  max-width: 50ex;\n",
       "  color: var(--sklearn-color-text);\n",
       "  box-shadow: 2pt 2pt 4pt #999;\n",
       "  /* unfitted */\n",
       "  background: var(--sklearn-color-unfitted-level-0);\n",
       "  border: .5pt solid var(--sklearn-color-unfitted-level-3);\n",
       "}\n",
       "\n",
       ".sk-estimator-doc-link.fitted span {\n",
       "  /* fitted */\n",
       "  background: var(--sklearn-color-fitted-level-0);\n",
       "  border: var(--sklearn-color-fitted-level-3);\n",
       "}\n",
       "\n",
       ".sk-estimator-doc-link:hover span {\n",
       "  display: block;\n",
       "}\n",
       "\n",
       "/* \"?\"-specific style due to the `<a>` HTML tag */\n",
       "\n",
<<<<<<< HEAD
       "#sk-container-id-6 a.estimator_doc_link {\n",
=======
       "#sk-container-id-1 a.estimator_doc_link {\n",
>>>>>>> origin/master
       "  float: right;\n",
       "  font-size: 1rem;\n",
       "  line-height: 1em;\n",
       "  font-family: monospace;\n",
       "  background-color: var(--sklearn-color-background);\n",
       "  border-radius: 1rem;\n",
       "  height: 1rem;\n",
       "  width: 1rem;\n",
       "  text-decoration: none;\n",
       "  /* unfitted */\n",
       "  color: var(--sklearn-color-unfitted-level-1);\n",
       "  border: var(--sklearn-color-unfitted-level-1) 1pt solid;\n",
       "}\n",
       "\n",
<<<<<<< HEAD
       "#sk-container-id-6 a.estimator_doc_link.fitted {\n",
=======
       "#sk-container-id-1 a.estimator_doc_link.fitted {\n",
>>>>>>> origin/master
       "  /* fitted */\n",
       "  border: var(--sklearn-color-fitted-level-1) 1pt solid;\n",
       "  color: var(--sklearn-color-fitted-level-1);\n",
       "}\n",
       "\n",
       "/* On hover */\n",
<<<<<<< HEAD
       "#sk-container-id-6 a.estimator_doc_link:hover {\n",
=======
       "#sk-container-id-1 a.estimator_doc_link:hover {\n",
>>>>>>> origin/master
       "  /* unfitted */\n",
       "  background-color: var(--sklearn-color-unfitted-level-3);\n",
       "  color: var(--sklearn-color-background);\n",
       "  text-decoration: none;\n",
       "}\n",
       "\n",
<<<<<<< HEAD
       "#sk-container-id-6 a.estimator_doc_link.fitted:hover {\n",
       "  /* fitted */\n",
       "  background-color: var(--sklearn-color-fitted-level-3);\n",
       "}\n",
       "</style><div id=\"sk-container-id-6\" class=\"sk-top-container\"><div class=\"sk-text-repr-fallback\"><pre>LatentDirichletAllocation(n_components=5, random_state=42)</pre><b>In a Jupyter environment, please rerun this cell to show the HTML representation or trust the notebook. <br />On GitHub, the HTML representation is unable to render, please try loading this page with nbviewer.org.</b></div><div class=\"sk-container\" hidden><div class=\"sk-item\"><div class=\"sk-estimator fitted sk-toggleable\"><input class=\"sk-toggleable__control sk-hidden--visually\" id=\"sk-estimator-id-6\" type=\"checkbox\" checked><label for=\"sk-estimator-id-6\" class=\"sk-toggleable__label fitted sk-toggleable__label-arrow\"><div><div>LatentDirichletAllocation</div></div><div><a class=\"sk-estimator-doc-link fitted\" rel=\"noreferrer\" target=\"_blank\" href=\"https://scikit-learn.org/1.6/modules/generated/sklearn.decomposition.LatentDirichletAllocation.html\">?<span>Documentation for LatentDirichletAllocation</span></a><span class=\"sk-estimator-doc-link fitted\">i<span>Fitted</span></span></div></label><div class=\"sk-toggleable__content fitted\"><pre>LatentDirichletAllocation(n_components=5, random_state=42)</pre></div> </div></div></div></div>"
=======
       "#sk-container-id-1 a.estimator_doc_link.fitted:hover {\n",
       "  /* fitted */\n",
       "  background-color: var(--sklearn-color-fitted-level-3);\n",
       "}\n",
       "\n",
       ".estimator-table summary {\n",
       "    padding: .5rem;\n",
       "    font-family: monospace;\n",
       "    cursor: pointer;\n",
       "}\n",
       "\n",
       ".estimator-table details[open] {\n",
       "    padding-left: 0.1rem;\n",
       "    padding-right: 0.1rem;\n",
       "    padding-bottom: 0.3rem;\n",
       "}\n",
       "\n",
       ".estimator-table .parameters-table {\n",
       "    margin-left: auto !important;\n",
       "    margin-right: auto !important;\n",
       "}\n",
       "\n",
       ".estimator-table .parameters-table tr:nth-child(odd) {\n",
       "    background-color: #fff;\n",
       "}\n",
       "\n",
       ".estimator-table .parameters-table tr:nth-child(even) {\n",
       "    background-color: #f6f6f6;\n",
       "}\n",
       "\n",
       ".estimator-table .parameters-table tr:hover {\n",
       "    background-color: #e0e0e0;\n",
       "}\n",
       "\n",
       ".estimator-table table td {\n",
       "    border: 1px solid rgba(106, 105, 104, 0.232);\n",
       "}\n",
       "\n",
       ".user-set td {\n",
       "    color:rgb(255, 94, 0);\n",
       "    text-align: left;\n",
       "}\n",
       "\n",
       ".user-set td.value pre {\n",
       "    color:rgb(255, 94, 0) !important;\n",
       "    background-color: transparent !important;\n",
       "}\n",
       "\n",
       ".default td {\n",
       "    color: black;\n",
       "    text-align: left;\n",
       "}\n",
       "\n",
       ".user-set td i,\n",
       ".default td i {\n",
       "    color: black;\n",
       "}\n",
       "\n",
       ".copy-paste-icon {\n",
       "    background-image: url(data:image/svg+xml;base64,PHN2ZyB4bWxucz0iaHR0cDovL3d3dy53My5vcmcvMjAwMC9zdmciIHZpZXdCb3g9IjAgMCA0NDggNTEyIj48IS0tIUZvbnQgQXdlc29tZSBGcmVlIDYuNy4yIGJ5IEBmb250YXdlc29tZSAtIGh0dHBzOi8vZm9udGF3ZXNvbWUuY29tIExpY2Vuc2UgLSBodHRwczovL2ZvbnRhd2Vzb21lLmNvbS9saWNlbnNlL2ZyZWUgQ29weXJpZ2h0IDIwMjUgRm9udGljb25zLCBJbmMuLS0+PHBhdGggZD0iTTIwOCAwTDMzMi4xIDBjMTIuNyAwIDI0LjkgNS4xIDMzLjkgMTQuMWw2Ny45IDY3LjljOSA5IDE0LjEgMjEuMiAxNC4xIDMzLjlMNDQ4IDMzNmMwIDI2LjUtMjEuNSA0OC00OCA0OGwtMTkyIDBjLTI2LjUgMC00OC0yMS41LTQ4LTQ4bDAtMjg4YzAtMjYuNSAyMS41LTQ4IDQ4LTQ4ek00OCAxMjhsODAgMCAwIDY0LTY0IDAgMCAyNTYgMTkyIDAgMC0zMiA2NCAwIDAgNDhjMCAyNi41LTIxLjUgNDgtNDggNDhMNDggNTEyYy0yNi41IDAtNDgtMjEuNS00OC00OEwwIDE3NmMwLTI2LjUgMjEuNS00OCA0OC00OHoiLz48L3N2Zz4=);\n",
       "    background-repeat: no-repeat;\n",
       "    background-size: 14px 14px;\n",
       "    background-position: 0;\n",
       "    display: inline-block;\n",
       "    width: 14px;\n",
       "    height: 14px;\n",
       "    cursor: pointer;\n",
       "}\n",
       "</style><body><div id=\"sk-container-id-1\" class=\"sk-top-container\"><div class=\"sk-text-repr-fallback\"><pre>LatentDirichletAllocation(n_components=5, random_state=42)</pre><b>In a Jupyter environment, please rerun this cell to show the HTML representation or trust the notebook. <br />On GitHub, the HTML representation is unable to render, please try loading this page with nbviewer.org.</b></div><div class=\"sk-container\" hidden><div class=\"sk-item\"><div class=\"sk-estimator fitted sk-toggleable\"><input class=\"sk-toggleable__control sk-hidden--visually\" id=\"sk-estimator-id-1\" type=\"checkbox\" checked><label for=\"sk-estimator-id-1\" class=\"sk-toggleable__label fitted sk-toggleable__label-arrow\"><div><div>LatentDirichletAllocation</div></div><div><a class=\"sk-estimator-doc-link fitted\" rel=\"noreferrer\" target=\"_blank\" href=\"https://scikit-learn.org/1.7/modules/generated/sklearn.decomposition.LatentDirichletAllocation.html\">?<span>Documentation for LatentDirichletAllocation</span></a><span class=\"sk-estimator-doc-link fitted\">i<span>Fitted</span></span></div></label><div class=\"sk-toggleable__content fitted\" data-param-prefix=\"\">\n",
       "        <div class=\"estimator-table\">\n",
       "            <details>\n",
       "                <summary>Parameters</summary>\n",
       "                <table class=\"parameters-table\">\n",
       "                  <tbody>\n",
       "                    \n",
       "        <tr class=\"user-set\">\n",
       "            <td><i class=\"copy-paste-icon\"\n",
       "                 onclick=\"copyToClipboard('n_components',\n",
       "                          this.parentElement.nextElementSibling)\"\n",
       "            ></i></td>\n",
       "            <td class=\"param\">n_components&nbsp;</td>\n",
       "            <td class=\"value\">5</td>\n",
       "        </tr>\n",
       "    \n",
       "\n",
       "        <tr class=\"default\">\n",
       "            <td><i class=\"copy-paste-icon\"\n",
       "                 onclick=\"copyToClipboard('doc_topic_prior',\n",
       "                          this.parentElement.nextElementSibling)\"\n",
       "            ></i></td>\n",
       "            <td class=\"param\">doc_topic_prior&nbsp;</td>\n",
       "            <td class=\"value\">None</td>\n",
       "        </tr>\n",
       "    \n",
       "\n",
       "        <tr class=\"default\">\n",
       "            <td><i class=\"copy-paste-icon\"\n",
       "                 onclick=\"copyToClipboard('topic_word_prior',\n",
       "                          this.parentElement.nextElementSibling)\"\n",
       "            ></i></td>\n",
       "            <td class=\"param\">topic_word_prior&nbsp;</td>\n",
       "            <td class=\"value\">None</td>\n",
       "        </tr>\n",
       "    \n",
       "\n",
       "        <tr class=\"default\">\n",
       "            <td><i class=\"copy-paste-icon\"\n",
       "                 onclick=\"copyToClipboard('learning_method',\n",
       "                          this.parentElement.nextElementSibling)\"\n",
       "            ></i></td>\n",
       "            <td class=\"param\">learning_method&nbsp;</td>\n",
       "            <td class=\"value\">&#x27;batch&#x27;</td>\n",
       "        </tr>\n",
       "    \n",
       "\n",
       "        <tr class=\"default\">\n",
       "            <td><i class=\"copy-paste-icon\"\n",
       "                 onclick=\"copyToClipboard('learning_decay',\n",
       "                          this.parentElement.nextElementSibling)\"\n",
       "            ></i></td>\n",
       "            <td class=\"param\">learning_decay&nbsp;</td>\n",
       "            <td class=\"value\">0.7</td>\n",
       "        </tr>\n",
       "    \n",
       "\n",
       "        <tr class=\"default\">\n",
       "            <td><i class=\"copy-paste-icon\"\n",
       "                 onclick=\"copyToClipboard('learning_offset',\n",
       "                          this.parentElement.nextElementSibling)\"\n",
       "            ></i></td>\n",
       "            <td class=\"param\">learning_offset&nbsp;</td>\n",
       "            <td class=\"value\">10.0</td>\n",
       "        </tr>\n",
       "    \n",
       "\n",
       "        <tr class=\"default\">\n",
       "            <td><i class=\"copy-paste-icon\"\n",
       "                 onclick=\"copyToClipboard('max_iter',\n",
       "                          this.parentElement.nextElementSibling)\"\n",
       "            ></i></td>\n",
       "            <td class=\"param\">max_iter&nbsp;</td>\n",
       "            <td class=\"value\">10</td>\n",
       "        </tr>\n",
       "    \n",
       "\n",
       "        <tr class=\"default\">\n",
       "            <td><i class=\"copy-paste-icon\"\n",
       "                 onclick=\"copyToClipboard('batch_size',\n",
       "                          this.parentElement.nextElementSibling)\"\n",
       "            ></i></td>\n",
       "            <td class=\"param\">batch_size&nbsp;</td>\n",
       "            <td class=\"value\">128</td>\n",
       "        </tr>\n",
       "    \n",
       "\n",
       "        <tr class=\"default\">\n",
       "            <td><i class=\"copy-paste-icon\"\n",
       "                 onclick=\"copyToClipboard('evaluate_every',\n",
       "                          this.parentElement.nextElementSibling)\"\n",
       "            ></i></td>\n",
       "            <td class=\"param\">evaluate_every&nbsp;</td>\n",
       "            <td class=\"value\">-1</td>\n",
       "        </tr>\n",
       "    \n",
       "\n",
       "        <tr class=\"default\">\n",
       "            <td><i class=\"copy-paste-icon\"\n",
       "                 onclick=\"copyToClipboard('total_samples',\n",
       "                          this.parentElement.nextElementSibling)\"\n",
       "            ></i></td>\n",
       "            <td class=\"param\">total_samples&nbsp;</td>\n",
       "            <td class=\"value\">1000000.0</td>\n",
       "        </tr>\n",
       "    \n",
       "\n",
       "        <tr class=\"default\">\n",
       "            <td><i class=\"copy-paste-icon\"\n",
       "                 onclick=\"copyToClipboard('perp_tol',\n",
       "                          this.parentElement.nextElementSibling)\"\n",
       "            ></i></td>\n",
       "            <td class=\"param\">perp_tol&nbsp;</td>\n",
       "            <td class=\"value\">0.1</td>\n",
       "        </tr>\n",
       "    \n",
       "\n",
       "        <tr class=\"default\">\n",
       "            <td><i class=\"copy-paste-icon\"\n",
       "                 onclick=\"copyToClipboard('mean_change_tol',\n",
       "                          this.parentElement.nextElementSibling)\"\n",
       "            ></i></td>\n",
       "            <td class=\"param\">mean_change_tol&nbsp;</td>\n",
       "            <td class=\"value\">0.001</td>\n",
       "        </tr>\n",
       "    \n",
       "\n",
       "        <tr class=\"default\">\n",
       "            <td><i class=\"copy-paste-icon\"\n",
       "                 onclick=\"copyToClipboard('max_doc_update_iter',\n",
       "                          this.parentElement.nextElementSibling)\"\n",
       "            ></i></td>\n",
       "            <td class=\"param\">max_doc_update_iter&nbsp;</td>\n",
       "            <td class=\"value\">100</td>\n",
       "        </tr>\n",
       "    \n",
       "\n",
       "        <tr class=\"default\">\n",
       "            <td><i class=\"copy-paste-icon\"\n",
       "                 onclick=\"copyToClipboard('n_jobs',\n",
       "                          this.parentElement.nextElementSibling)\"\n",
       "            ></i></td>\n",
       "            <td class=\"param\">n_jobs&nbsp;</td>\n",
       "            <td class=\"value\">None</td>\n",
       "        </tr>\n",
       "    \n",
       "\n",
       "        <tr class=\"default\">\n",
       "            <td><i class=\"copy-paste-icon\"\n",
       "                 onclick=\"copyToClipboard('verbose',\n",
       "                          this.parentElement.nextElementSibling)\"\n",
       "            ></i></td>\n",
       "            <td class=\"param\">verbose&nbsp;</td>\n",
       "            <td class=\"value\">0</td>\n",
       "        </tr>\n",
       "    \n",
       "\n",
       "        <tr class=\"user-set\">\n",
       "            <td><i class=\"copy-paste-icon\"\n",
       "                 onclick=\"copyToClipboard('random_state',\n",
       "                          this.parentElement.nextElementSibling)\"\n",
       "            ></i></td>\n",
       "            <td class=\"param\">random_state&nbsp;</td>\n",
       "            <td class=\"value\">42</td>\n",
       "        </tr>\n",
       "    \n",
       "                  </tbody>\n",
       "                </table>\n",
       "            </details>\n",
       "        </div>\n",
       "    </div></div></div></div></div><script>function copyToClipboard(text, element) {\n",
       "    // Get the parameter prefix from the closest toggleable content\n",
       "    const toggleableContent = element.closest('.sk-toggleable__content');\n",
       "    const paramPrefix = toggleableContent ? toggleableContent.dataset.paramPrefix : '';\n",
       "    const fullParamName = paramPrefix ? `${paramPrefix}${text}` : text;\n",
       "\n",
       "    const originalStyle = element.style;\n",
       "    const computedStyle = window.getComputedStyle(element);\n",
       "    const originalWidth = computedStyle.width;\n",
       "    const originalHTML = element.innerHTML.replace('Copied!', '');\n",
       "\n",
       "    navigator.clipboard.writeText(fullParamName)\n",
       "        .then(() => {\n",
       "            element.style.width = originalWidth;\n",
       "            element.style.color = 'green';\n",
       "            element.innerHTML = \"Copied!\";\n",
       "\n",
       "            setTimeout(() => {\n",
       "                element.innerHTML = originalHTML;\n",
       "                element.style = originalStyle;\n",
       "            }, 2000);\n",
       "        })\n",
       "        .catch(err => {\n",
       "            console.error('Failed to copy:', err);\n",
       "            element.style.color = 'red';\n",
       "            element.innerHTML = \"Failed!\";\n",
       "            setTimeout(() => {\n",
       "                element.innerHTML = originalHTML;\n",
       "                element.style = originalStyle;\n",
       "            }, 2000);\n",
       "        });\n",
       "    return false;\n",
       "}\n",
       "\n",
       "document.querySelectorAll('.fa-regular.fa-copy').forEach(function(element) {\n",
       "    const toggleableContent = element.closest('.sk-toggleable__content');\n",
       "    const paramPrefix = toggleableContent ? toggleableContent.dataset.paramPrefix : '';\n",
       "    const paramName = element.parentElement.nextElementSibling.textContent.trim();\n",
       "    const fullParamName = paramPrefix ? `${paramPrefix}${paramName}` : paramName;\n",
       "\n",
       "    element.setAttribute('title', fullParamName);\n",
       "});\n",
       "</script></body>"
>>>>>>> origin/master
      ],
      "text/plain": [
       "LatentDirichletAllocation(n_components=5, random_state=42)"
      ]
     },
<<<<<<< HEAD
     "execution_count": 90,
=======
     "execution_count": 13,
>>>>>>> origin/master
     "metadata": {},
     "output_type": "execute_result"
    }
   ],
   "source": [
    "# 12. LDA untuk Pelabelan Topik\n",
    "vectorizer = CountVectorizer(max_df=0.95, min_df=2, stop_words='english')\n",
    "X = vectorizer.fit_transform(train['cleaned_context'])\n",
    "\n",
    "lda = LatentDirichletAllocation(n_components=5, random_state=42)\n",
    "lda.fit(X)"
   ]
  },
  {
   "cell_type": "code",
<<<<<<< HEAD
   "execution_count": 91,
=======
   "execution_count": 14,
>>>>>>> origin/master
   "id": "f1a01400",
   "metadata": {},
   "outputs": [],
   "source": [
    "# Prediksi topik untuk setiap baris\n",
    "train['Topik_Prediksi'] = lda.transform(X).argmax(axis=1)"
   ]
  },
  {
   "cell_type": "code",
<<<<<<< HEAD
   "execution_count": 92,
=======
   "execution_count": 15,
>>>>>>> origin/master
   "id": "9a1b6f12",
   "metadata": {},
   "outputs": [],
   "source": [
    "# 13. Mapping Label Topik\n",
    "label_topik = {\n",
    "    0: \"Kesehatan Mental\",\n",
    "    1: \"Parenting/Keluarga\",\n",
    "    2: \"Karier/Motivasi\",\n",
    "    3: \"Relasi Sosial\",\n",
    "    4: \"Pendidikan\"\n",
    "}\n",
    "train['label'] = train['Topik_Prediksi'].map(label_topik)"
   ]
  },
  {
   "cell_type": "markdown",
   "id": "072059b5",
   "metadata": {},
   "source": [
    "## Penggabungan Dataset Setelah Cleaning : datasetfinalcleaning"
   ]
  },
  {
   "cell_type": "code",
<<<<<<< HEAD
   "execution_count": 93,
=======
   "execution_count": 16,
>>>>>>> origin/master
   "id": "18acb6f4",
   "metadata": {},
   "outputs": [
    {
     "name": "stdout",
     "output_type": "stream",
     "text": [
      "✅ Dataset final berhasil disimpan sebagai 'datasetgabungan.csv'\n"
     ]
    }
   ],
   "source": [
    "# Persiapan Gabung Dataset\n",
    "# 1. Rename kolom teks menjadi 'text' agar seragam\n",
    "train_cleaned = train[['cleaned_context', 'label']].rename(columns={'cleaned_context': 'text'})\n",
    "prestasi_cleaned = prestasi[['cleaned_text']].copy()\n",
    "prestasi_cleaned['label'] = 'Parenting/Keluarga'\n",
    "prestasi_cleaned.rename(columns={'cleaned_text': 'text'}, inplace=True)\n",
    "\n",
    "graduation_cleaned = graduation[['cleaned_text']].copy()\n",
    "graduation_cleaned['label'] = 'Pendidikan'\n",
    "graduation_cleaned.rename(columns={'cleaned_text': 'text'}, inplace=True)\n",
    "\n",
    "# 2. Gabungkan Semua Dataset\n",
    "datasetfinalcleaning = pd.concat([train_cleaned, prestasi_cleaned, graduation_cleaned], ignore_index=True)\n",
    "\n",
    "# 3. Simpan ke CSV\n",
    "datasetfinalcleaning.to_csv(\"datasetgabungan.csv\", index=False)\n",
    "print(\"✅ Dataset final berhasil disimpan sebagai 'datasetgabungan.csv'\")"
   ]
  },
  {
   "cell_type": "code",
<<<<<<< HEAD
   "execution_count": 94,
=======
   "execution_count": 17,
>>>>>>> origin/master
   "id": "96972086",
   "metadata": {},
   "outputs": [
    {
     "data": {
      "text/html": [
       "<div>\n",
       "<style scoped>\n",
       "    .dataframe tbody tr th:only-of-type {\n",
       "        vertical-align: middle;\n",
       "    }\n",
       "\n",
       "    .dataframe tbody tr th {\n",
       "        vertical-align: top;\n",
       "    }\n",
       "\n",
       "    .dataframe thead th {\n",
       "        text-align: right;\n",
       "    }\n",
       "</style>\n",
       "<table border=\"1\" class=\"dataframe\">\n",
       "  <thead>\n",
       "    <tr style=\"text-align: right;\">\n",
       "      <th></th>\n",
       "      <th>text</th>\n",
       "      <th>label</th>\n",
       "    </tr>\n",
       "  </thead>\n",
       "  <tbody>\n",
       "    <tr>\n",
<<<<<<< HEAD
       "      <th>79</th>\n",
       "      <td>menghadapi depresi kecemasan parah hanya meras...</td>\n",
       "      <td>Relasi Sosial</td>\n",
       "    </tr>\n",
       "    <tr>\n",
       "      <th>4139</th>\n",
       "      <td>student with gpa graduated in years</td>\n",
       "      <td>Pendidikan</td>\n",
       "    </tr>\n",
       "    <tr>\n",
       "      <th>1643</th>\n",
       "      <td>sesekali memikirkan mantan pacar empat tahun l...</td>\n",
       "      <td>Relasi Sosial</td>\n",
       "    </tr>\n",
       "    <tr>\n",
       "      <th>167</th>\n",
       "      <td>sangat tertekan cara menemukan seseorang diaja...</td>\n",
       "      <td>Karier/Motivasi</td>\n",
       "    </tr>\n",
       "    <tr>\n",
       "      <th>439</th>\n",
       "      <td>mulai konselingterapi beberapa hari ketakutan ...</td>\n",
       "      <td>Kesehatan Mental</td>\n",
       "    </tr>\n",
=======
       "      <th>434</th>\n",
       "      <td>mulai konselingterapi beberapa hari ketakutan ...</td>\n",
       "      <td>Kesehatan Mental</td>\n",
       "    </tr>\n",
       "    <tr>\n",
       "      <th>1233</th>\n",
       "      <td>ketika tumbuh dewasa ibu ayah selalu bertempur...</td>\n",
       "      <td>Parenting/Keluarga</td>\n",
       "    </tr>\n",
       "    <tr>\n",
       "      <th>1321</th>\n",
       "      <td>teman menyalahgunakan obat resepnya meskipun d...</td>\n",
       "      <td>Relasi Sosial</td>\n",
       "    </tr>\n",
       "    <tr>\n",
       "      <th>1486</th>\n",
       "      <td>merasa berbeda terhadap suami merasa tumbuh hu...</td>\n",
       "      <td>Relasi Sosial</td>\n",
       "    </tr>\n",
       "    <tr>\n",
       "      <th>700</th>\n",
       "      <td>apakah ini sesuatu harus khawatirkan haruskah ...</td>\n",
       "      <td>Pendidikan</td>\n",
       "    </tr>\n",
>>>>>>> origin/master
       "  </tbody>\n",
       "</table>\n",
       "</div>"
      ],
      "text/plain": [
<<<<<<< HEAD
       "                                                   text             label\n",
       "79    menghadapi depresi kecemasan parah hanya meras...     Relasi Sosial\n",
       "4139                student with gpa graduated in years        Pendidikan\n",
       "1643  sesekali memikirkan mantan pacar empat tahun l...     Relasi Sosial\n",
       "167   sangat tertekan cara menemukan seseorang diaja...   Karier/Motivasi\n",
       "439   mulai konselingterapi beberapa hari ketakutan ...  Kesehatan Mental"
=======
       "                                                   text               label\n",
       "434   mulai konselingterapi beberapa hari ketakutan ...    Kesehatan Mental\n",
       "1233  ketika tumbuh dewasa ibu ayah selalu bertempur...  Parenting/Keluarga\n",
       "1321  teman menyalahgunakan obat resepnya meskipun d...       Relasi Sosial\n",
       "1486  merasa berbeda terhadap suami merasa tumbuh hu...       Relasi Sosial\n",
       "700   apakah ini sesuatu harus khawatirkan haruskah ...          Pendidikan"
>>>>>>> origin/master
      ]
     },
     "metadata": {},
     "output_type": "display_data"
    },
    {
     "name": "stdout",
     "output_type": "stream",
     "text": [
      "\n",
      "Total data setelah digabung: 4257\n"
     ]
    }
   ],
   "source": [
    "# 5. Opsional: cek hasil gabungan\n",
    "# Baca file CSV yang sudah disimpan\n",
    "datasetgabungan = pd.read_csv('datasetgabungan.csv')\n",
    "\n",
    "# Tampilkan 5 sampel acak yang rapi\n",
    "display(datasetgabungan.sample(5))\n",
    "\n",
    "# Tampilkan total data\n",
    "print(f\"\\nTotal data setelah digabung: {len(datasetgabungan)}\")"
   ]
  },
  {
   "cell_type": "markdown",
   "id": "4f3a1938",
   "metadata": {},
   "source": [
    "## Insight Dataset Setelah Cleaning\n",
    "### 🧼 Deskripsi Singkat:\n",
    "Dataset akhir bernama `datasetfinalcleaning` merupakan hasil penggabungan dari tiga sumber data berbeda (train_translated, parenting_prestasi, dan graduation_rate) yang telah dibersihkan melalui proses:\n",
    "\n",
    "1. Penghapusan data **duplicate** dan **missing values**.\n",
    "2. Pembersihan teks dari noise seperti URL, mention, emoji, angka, dan tanda baca.\n",
    "\n",
    "### 🧾 Struktur Dataset\n",
    "\n",
    "| Kolom | Deskripsi |\n",
    "|-------|-----------|\n",
    "| `text` | Teks hasil cleaning dari masing-masing dataset sumber. |\n",
    "| `label` | Kategori/konteks dari teks, seperti hasil klasifikasi atau sumber asal data. |"
   ]
  },
  {
   "cell_type": "code",
<<<<<<< HEAD
   "execution_count": 95,
=======
   "execution_count": 18,
>>>>>>> origin/master
   "id": "a87581c5",
   "metadata": {},
   "outputs": [
    {
     "data": {
      "text/html": [
       "<div>\n",
       "<style scoped>\n",
       "    .dataframe tbody tr th:only-of-type {\n",
       "        vertical-align: middle;\n",
       "    }\n",
       "\n",
       "    .dataframe tbody tr th {\n",
       "        vertical-align: top;\n",
       "    }\n",
       "\n",
       "    .dataframe thead th {\n",
       "        text-align: right;\n",
       "    }\n",
       "</style>\n",
       "<table border=\"1\" class=\"dataframe\">\n",
       "  <thead>\n",
       "    <tr style=\"text-align: right;\">\n",
       "      <th></th>\n",
       "      <th>text</th>\n",
       "      <th>label</th>\n",
       "    </tr>\n",
       "  </thead>\n",
       "  <tbody>\n",
       "    <tr>\n",
<<<<<<< HEAD
       "      <th>2506</th>\n",
       "      <td>ingin tinggal ibu ayah marah membuat merasa se...</td>\n",
       "      <td>Kesehatan Mental</td>\n",
       "    </tr>\n",
       "    <tr>\n",
       "      <th>4143</th>\n",
=======
       "      <th>3493</th>\n",
>>>>>>> origin/master
       "      <td>student with gpa graduated in years</td>\n",
       "      <td>Pendidikan</td>\n",
       "    </tr>\n",
       "    <tr>\n",
<<<<<<< HEAD
       "      <th>1739</th>\n",
       "      <td>dokter sepertinya berpikir bahaya memilikinya ...</td>\n",
       "      <td>Parenting/Keluarga</td>\n",
       "    </tr>\n",
       "    <tr>\n",
       "      <th>1991</th>\n",
       "      <td>seseorang memulai proses konseling</td>\n",
       "      <td>Parenting/Keluarga</td>\n",
       "    </tr>\n",
       "    <tr>\n",
       "      <th>1165</th>\n",
       "      <td>pacar menyentuh intim dia mencium saat kami be...</td>\n",
       "      <td>Relasi Sosial</td>\n",
       "    </tr>\n",
       "    <tr>\n",
       "      <th>3961</th>\n",
       "      <td>student with gpa graduated in years</td>\n",
       "      <td>Pendidikan</td>\n",
       "    </tr>\n",
       "    <tr>\n",
       "      <th>761</th>\n",
       "      <td>hari pertama sekolah mengenakan bra terlalu be...</td>\n",
       "      <td>Kesehatan Mental</td>\n",
       "    </tr>\n",
       "    <tr>\n",
       "      <th>2375</th>\n",
       "      <td>ibu memiliki alzheimer dia telah menjadi sanga...</td>\n",
       "      <td>Parenting/Keluarga</td>\n",
       "    </tr>\n",
       "    <tr>\n",
       "      <th>267</th>\n",
       "      <td>sama sekali ada hubungannya hidup tetapi berba...</td>\n",
       "      <td>Karier/Motivasi</td>\n",
       "    </tr>\n",
       "    <tr>\n",
       "      <th>986</th>\n",
       "      <td>rumah seorang teman kami minum minum menonton ...</td>\n",
       "      <td>Relasi Sosial</td>\n",
       "    </tr>\n",
=======
       "      <th>509</th>\n",
       "      <td>telah menggunakan mg xanax dua kali sehari sel...</td>\n",
       "      <td>Karier/Motivasi</td>\n",
       "    </tr>\n",
       "    <tr>\n",
       "      <th>4048</th>\n",
       "      <td>student with gpa graduated in years</td>\n",
       "      <td>Pendidikan</td>\n",
       "    </tr>\n",
       "    <tr>\n",
       "      <th>2099</th>\n",
       "      <td>menjalin hubungan tunangan saat ini mengetahui...</td>\n",
       "      <td>Parenting/Keluarga</td>\n",
       "    </tr>\n",
       "    <tr>\n",
       "      <th>1496</th>\n",
       "      <td>suami selingkuh sangat menyakitkan waktu ketik...</td>\n",
       "      <td>Parenting/Keluarga</td>\n",
       "    </tr>\n",
       "    <tr>\n",
       "      <th>1480</th>\n",
       "      <td>aku mencintainya tapi dia menunjukkan cinta pa...</td>\n",
       "      <td>Parenting/Keluarga</td>\n",
       "    </tr>\n",
       "    <tr>\n",
       "      <th>1588</th>\n",
       "      <td>kami jauh sampai dia bergabung militer mencint...</td>\n",
       "      <td>Relasi Sosial</td>\n",
       "    </tr>\n",
       "    <tr>\n",
       "      <th>2154</th>\n",
       "      <td>harus pergi ruang gawat darurat hari ini menda...</td>\n",
       "      <td>Relasi Sosial</td>\n",
       "    </tr>\n",
       "    <tr>\n",
       "      <th>816</th>\n",
       "      <td>cara memutuskan apakah harus mengakhiri hubung...</td>\n",
       "      <td>Karier/Motivasi</td>\n",
       "    </tr>\n",
       "    <tr>\n",
       "      <th>2764</th>\n",
       "      <td>ayah membuat merasa seperti omong kosong seper...</td>\n",
       "      <td>Parenting/Keluarga</td>\n",
       "    </tr>\n",
>>>>>>> origin/master
       "  </tbody>\n",
       "</table>\n",
       "</div>"
      ],
      "text/plain": [
       "                                                   text               label\n",
<<<<<<< HEAD
       "2506  ingin tinggal ibu ayah marah membuat merasa se...    Kesehatan Mental\n",
       "4143                student with gpa graduated in years          Pendidikan\n",
       "1739  dokter sepertinya berpikir bahaya memilikinya ...  Parenting/Keluarga\n",
       "1991                 seseorang memulai proses konseling  Parenting/Keluarga\n",
       "1165  pacar menyentuh intim dia mencium saat kami be...       Relasi Sosial\n",
       "3961                student with gpa graduated in years          Pendidikan\n",
       "761   hari pertama sekolah mengenakan bra terlalu be...    Kesehatan Mental\n",
       "2375  ibu memiliki alzheimer dia telah menjadi sanga...  Parenting/Keluarga\n",
       "267   sama sekali ada hubungannya hidup tetapi berba...     Karier/Motivasi\n",
       "986   rumah seorang teman kami minum minum menonton ...       Relasi Sosial"
=======
       "3493                student with gpa graduated in years          Pendidikan\n",
       "509   telah menggunakan mg xanax dua kali sehari sel...     Karier/Motivasi\n",
       "4048                student with gpa graduated in years          Pendidikan\n",
       "2099  menjalin hubungan tunangan saat ini mengetahui...  Parenting/Keluarga\n",
       "1496  suami selingkuh sangat menyakitkan waktu ketik...  Parenting/Keluarga\n",
       "1480  aku mencintainya tapi dia menunjukkan cinta pa...  Parenting/Keluarga\n",
       "1588  kami jauh sampai dia bergabung militer mencint...       Relasi Sosial\n",
       "2154  harus pergi ruang gawat darurat hari ini menda...       Relasi Sosial\n",
       "816   cara memutuskan apakah harus mengakhiri hubung...     Karier/Motivasi\n",
       "2764  ayah membuat merasa seperti omong kosong seper...  Parenting/Keluarga"
>>>>>>> origin/master
      ]
     },
     "metadata": {},
     "output_type": "display_data"
    }
   ],
   "source": [
    "# Penanganan Tambahan dan Filter Ulang Data Kosong atau Terlalu Pendek\n",
    "datasetgabungan = datasetgabungan[datasetgabungan['text'].str.strip().str.len() > 5]\n",
    "\n",
    "# Menampilkan 5 sampel secara acak dalam bentuk tabel yang rapi\n",
    "display(datasetgabungan.sample(10))"
   ]
  },
  {
   "cell_type": "markdown",
   "id": "2b1d4726",
   "metadata": {},
   "source": [
    "## EDA (Exploratory Data Analysis) Dataset Hasil Cleaning"
   ]
  },
  {
   "cell_type": "code",
<<<<<<< HEAD
   "execution_count": 96,
=======
   "execution_count": 19,
>>>>>>> origin/master
   "id": "cf35a2c9",
   "metadata": {},
   "outputs": [
    {
     "name": "stdout",
     "output_type": "stream",
     "text": [
      "INFO DATASET:\n",
      "<class 'pandas.core.frame.DataFrame'>\n",
      "Index: 3779 entries, 0 to 4256\n",
      "Data columns (total 2 columns):\n",
      " #   Column  Non-Null Count  Dtype \n",
      "---  ------  --------------  ----- \n",
      " 0   text    3779 non-null   object\n",
      " 1   label   3779 non-null   object\n",
      "dtypes: object(2)\n",
      "memory usage: 88.6+ KB\n",
      "None\n"
     ]
    }
   ],
   "source": [
    "# 1. Info dasar dataset\n",
    "print(\"INFO DATASET:\")\n",
    "print(datasetgabungan.info())"
   ]
  },
  {
   "cell_type": "code",
<<<<<<< HEAD
   "execution_count": 97,
=======
   "execution_count": 20,
>>>>>>> origin/master
   "id": "2e5eae76",
   "metadata": {},
   "outputs": [
    {
     "name": "stdout",
     "output_type": "stream",
     "text": [
      "\n",
      "DESKRIPSI DATA NUMERIK:\n",
      "                                       text       label\n",
      "count                                  3779        3779\n",
      "unique                                  841           5\n",
      "top     student with gpa graduated in years  Pendidikan\n",
      "freq                                   1000        1428\n"
     ]
    }
   ],
   "source": [
    "# 2. Deskripsi Numerik Dataset\n",
    "print(\"\\nDESKRIPSI DATA NUMERIK:\")\n",
    "print(datasetgabungan.describe())"
   ]
  },
  {
   "cell_type": "code",
<<<<<<< HEAD
   "execution_count": 98,
=======
   "execution_count": 21,
>>>>>>> origin/master
   "id": "9e3b9349",
   "metadata": {},
   "outputs": [
    {
     "name": "stdout",
     "output_type": "stream",
     "text": [
      "\n",
      "Missing values per kolom:\n",
      "text     0\n",
      "label    0\n",
      "dtype: int64\n"
     ]
    }
   ],
   "source": [
    "# 3. Memastikan Sudah Tidak Ada Missing Values\n",
    "print(\"\\nMissing values per kolom:\")\n",
    "print(datasetgabungan.isnull().sum())"
   ]
  },
  {
   "cell_type": "code",
<<<<<<< HEAD
   "execution_count": 99,
=======
   "execution_count": 22,
>>>>>>> origin/master
   "id": "9ee1b1f7",
   "metadata": {},
   "outputs": [
    {
     "name": "stdout",
     "output_type": "stream",
     "text": [
      "\n",
      "Statistik panjang teks:\n",
      "count    3779.000000\n",
      "mean      194.436623\n",
      "std       218.080129\n",
      "min        19.000000\n",
      "25%        35.000000\n",
      "50%       142.000000\n",
      "75%       264.000000\n",
      "max      2370.000000\n",
      "Name: text_length, dtype: float64\n"
     ]
    }
   ],
   "source": [
    "# 3. Statistik panjang teks\n",
    "# Hapus karakter tak terlihat dari label\n",
    "datasetgabungan['label'] = datasetgabungan['label'].str.replace(r'[\\r\\n\\t\\x0b\\x0c\\x13]', '', regex=True)\n",
    "datasetgabungan['text'] = datasetgabungan['text'].str.replace(r'[\\r\\n\\t\\x0b\\x0c\\x13]', ' ', regex=True)\n",
    "\n",
    "# Tambahkan kolom panjang teks\n",
    "datasetgabungan['text_length'] = datasetgabungan['text'].astype(str).str.len()\n",
    "\n",
    "# Cek Statistik Panjang Teks\n",
    "datasetgabungan['text_length'] = datasetgabungan['text'].astype(str).str.len()\n",
    "print(\"\\nStatistik panjang teks:\")\n",
    "print(datasetgabungan['text_length'].describe())"
   ]
  },
  {
   "cell_type": "code",
<<<<<<< HEAD
   "execution_count": 100,
=======
   "execution_count": 23,
>>>>>>> origin/master
   "id": "09861088",
   "metadata": {},
   "outputs": [
    {
     "data": {
<<<<<<< HEAD
      "image/png": "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",
=======
      "image/png": "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",
>>>>>>> origin/master
      "text/plain": [
       "<Figure size 1000x500 with 1 Axes>"
      ]
     },
     "metadata": {},
     "output_type": "display_data"
    }
   ],
   "source": [
    "# 4. Visualisasi distribusi panjang teks\n",
    "plt.figure(figsize=(10,5))\n",
    "sns.histplot(datasetgabungan['text_length'], bins=50, kde=True)\n",
    "plt.title('Distribusi Panjang Teks')\n",
    "plt.xlabel('Panjang Teks (karakter)')\n",
    "plt.ylabel('Frekuensi')\n",
    "plt.show()"
   ]
  },
  {
   "cell_type": "code",
<<<<<<< HEAD
   "execution_count": 101,
=======
   "execution_count": 24,
>>>>>>> origin/master
   "id": "f1d55d3f",
   "metadata": {},
   "outputs": [
    {
     "data": {
<<<<<<< HEAD
      "image/png": "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",
=======
      "image/png": "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",
>>>>>>> origin/master
      "text/plain": [
       "<Figure size 800x400 with 1 Axes>"
      ]
     },
     "metadata": {},
     "output_type": "display_data"
    }
   ],
   "source": [
    "# 5. Distribusi kelas/label\n",
    "plt.figure(figsize=(8,4))\n",
    "sns.countplot(x='label', data=datasetgabungan, order=datasetgabungan['label'].value_counts().index)\n",
    "plt.title('Distribusi Label Kelas')\n",
    "plt.xlabel('Label')\n",
    "plt.ylabel('Jumlah Data')\n",
    "plt.show()"
   ]
  },
  {
   "cell_type": "code",
<<<<<<< HEAD
   "execution_count": 102,
=======
   "execution_count": 25,
>>>>>>> origin/master
   "id": "389caa54",
   "metadata": {},
   "outputs": [
    {
     "data": {
<<<<<<< HEAD
      "image/png": "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",
=======
      "image/png": "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",
>>>>>>> origin/master
      "text/plain": [
       "<Figure size 1000x600 with 1 Axes>"
      ]
     },
     "metadata": {},
     "output_type": "display_data"
    }
   ],
   "source": [
    "# 6. Boxplot panjang teks per label\n",
    "plt.figure(figsize=(10,6))\n",
    "sns.boxplot(x='label', y='text_length', data=datasetgabungan)\n",
    "plt.title('Distribusi Panjang Teks per Label')\n",
    "plt.xlabel('Label')\n",
    "plt.ylabel('Panjang Teks (karakter)')\n",
    "plt.show()"
   ]
  },
  {
   "cell_type": "code",
<<<<<<< HEAD
   "execution_count": 103,
=======
   "execution_count": 26,
>>>>>>> origin/master
   "id": "21062590",
   "metadata": {},
   "outputs": [
    {
     "name": "stdout",
     "output_type": "stream",
     "text": [
      "\n",
      "Contoh teks terpanjang dan terpendek per label:\n",
      "\n",
      "Label: Parenting/Keluarga\n",
      " - Teks terpanjang (1744 karakter): seorang wanita dewasa muda kesulitan menemukan identitas sebenarnya ada rumah ini semua dimulai ketika punya pacar sekitar bulan lalu pacar berkencan selama beberapa bulan memutuskan melakukan tindaka...\n",
      " - Teks terpendek (22 karakter): terkadang kali semalam...\n",
      "\n",
      "Label: Relasi Sosial\n",
      " - Teks terpanjang (2210 karakter): pacar telah bersama selama lima tahun sekarang sepanjang seluruh hari pertama kami bertemu dia memiliki kesempatan berinteraksi cukup banyak langsung memicu hubungan mendalam satu sama lain malam sama...\n",
      " - Teks terpendek (19 karakter): mengerti perhatikan...\n",
      "\n",
      "Label: Pendidikan\n",
      " - Teks terpanjang (867 karakter): halo memiliki sepupu keluarga telah membuat merasa diremehkan aman frustrasi selama dia tinggal sini kota tahu dia berasal tempat cinta tetapi dia selalu menyatu pendek sangat temperamental jika ada s...\n",
      " - Teks terpendek (33 karakter): membuat pernikahan sehat terakhir...\n",
      "\n",
      "Label: Kesehatan Mental\n",
      " - Teks terpanjang (2370 karakter): im a teenager and throughout my entire life ive never really had good parents or parents at all for that matter melebih lebihkan tinggal bersama ibu kakek nenek sampai ayah penjara hampir sepanjang hi...\n",
      " - Teks terpendek (24 karakter): tahu jika hanya paranoid...\n",
      "\n",
      "Label: Karier/Motivasi\n",
      " - Teks terpanjang (943 karakter): telah bekerja pria ini selama sekitar tiga tahun sekarang tahu pertama kali melihatnya bahwa tertarik seiring waktu ia menjadi teman sangat baik kami berbicara tentang masalah hubungan kami keluarga i...\n",
      " - Teks terpendek (23 karakter): tertarik pria lebih tua...\n"
     ]
    }
   ],
   "source": [
    "# 7. Contoh teks terpanjang dan terpendek per label\n",
    "print(\"\\nContoh teks terpanjang dan terpendek per label:\")\n",
    "for label in datasetgabungan['label'].unique():\n",
    "    subset = datasetgabungan[datasetgabungan['label'] == label]\n",
    "    longest = subset.loc[subset['text_length'].idxmax()]\n",
    "    shortest = subset.loc[subset['text_length'].idxmin()]\n",
    "    print(f\"\\nLabel: {label}\")\n",
    "    print(f\" - Teks terpanjang ({longest['text_length']} karakter): {longest['text'][:200]}...\")\n",
    "    print(f\" - Teks terpendek ({shortest['text_length']} karakter): {shortest['text'][:200]}...\")"
   ]
  },
  {
   "cell_type": "code",
<<<<<<< HEAD
   "execution_count": 104,
=======
   "execution_count": 27,
>>>>>>> origin/master
   "id": "02d8ddf5",
   "metadata": {},
   "outputs": [
    {
     "name": "stdout",
     "output_type": "stream",
     "text": [
      "\n",
      "Top 10 kata paling sering muncul (semua data):\n",
      "       kata  frekuensi\n",
      "0       dia       3741\n",
      "1       ini       1883\n",
      "9    tetapi       1363\n",
      "3  memiliki       1283\n",
      "7      tahu       1184\n",
      "4    merasa       1136\n",
      "2      kami       1134\n",
      "5     orang       1095\n",
      "8     telah       1002\n",
      "6   student       1000\n"
     ]
    }
   ],
   "source": [
    "# 8. Frekuensi kata umum (optional, pakai CountVectorizer dari sklearn)\n",
    "print(\"\\nTop 10 kata paling sering muncul (semua data):\")\n",
    "vectorizer = CountVectorizer(stop_words='english', max_features=10)\n",
    "X = vectorizer.fit_transform(datasetgabungan['text'])\n",
    "freq = X.toarray().sum(axis=0)\n",
    "freq_df = pd.DataFrame({'kata': vectorizer.get_feature_names_out(), 'frekuensi': freq})\n",
    "print(freq_df.sort_values(by='frekuensi', ascending=False))"
   ]
  },
  {
   "cell_type": "markdown",
   "id": "b09dc20e",
   "metadata": {},
   "source": [
    "## Ekstraksi Fitur (TF-IDF atau Count Vectorizer)"
   ]
  },
  {
   "cell_type": "code",
<<<<<<< HEAD
   "execution_count": 105,
=======
   "execution_count": 28,
>>>>>>> origin/master
   "id": "228d12e4",
   "metadata": {},
   "outputs": [],
   "source": [
    "# TF-IDF Vectorization\n",
    "vectorizer = TfidfVectorizer(max_features=5000, ngram_range=(1,2))\n",
    "X = vectorizer.fit_transform(datasetgabungan['text'])\n",
    "\n",
    "# Encode Label\n",
    "le = LabelEncoder()\n",
    "y = le.fit_transform(datasetgabungan['label'])"
   ]
  },
  {
   "cell_type": "markdown",
   "id": "b663f24e",
   "metadata": {},
   "source": [
    "## Split Dataset Hasil Cleaning (DatasetFinal) 80:20"
   ]
  },
  {
   "cell_type": "code",
<<<<<<< HEAD
   "execution_count": 106,
=======
   "execution_count": 29,
>>>>>>> origin/master
   "id": "0edfccd0",
   "metadata": {},
   "outputs": [],
   "source": [
    "datasetfinal = datasetgabungan[datasetgabungan['text'].str.strip() != \"\"]\n",
    "\n",
    "X = datasetfinal['text']\n",
    "y = le.fit_transform(datasetfinal['label'])\n",
    "\n",
    "X_train, X_test, y_train, y_test = train_test_split(\n",
    "    X, y, test_size=0.2, stratify=y, random_state=42\n",
    ")"
   ]
  },
  {
   "cell_type": "markdown",
   "id": "afacc430",
   "metadata": {},
   "source": [
    "# Simulasi Data Realistis ParentingMatch\n",
    "\n",
    "Disimulasikan 500 responden yang menjawab 10 pertanyaan parenting (skala 1–5).\n",
    "Setiap jawaban dijumlahkan menjadi skor total (sum).\n",
    "Label ditentukan berdasarkan skor total:\n",
    "\n",
    "- ≥ 40 → Authoritative\n",
    "- 25 - 39 → Permissive\n",
    "- < 25 → Authoritarian\n",
    "\n",
    "Tujuan pembagian ini adalah mensimulasikan real-case kuisioner parenting style.\n",
    "- Output: DataFrame dengan 10 kolom pertanyaan dan satu kolom label (Authoritative, dll)."
   ]
  },
  {
   "cell_type": "code",
<<<<<<< HEAD
   "execution_count": 107,
=======
   "execution_count": 30,
>>>>>>> origin/master
   "id": "5ea86541",
   "metadata": {},
   "outputs": [
    {
     "data": {
      "text/html": [
       "<div>\n",
       "<style scoped>\n",
       "    .dataframe tbody tr th:only-of-type {\n",
       "        vertical-align: middle;\n",
       "    }\n",
       "\n",
       "    .dataframe tbody tr th {\n",
       "        vertical-align: top;\n",
       "    }\n",
       "\n",
       "    .dataframe thead th {\n",
       "        text-align: right;\n",
       "    }\n",
       "</style>\n",
       "<table border=\"1\" class=\"dataframe\">\n",
       "  <thead>\n",
       "    <tr style=\"text-align: right;\">\n",
       "      <th></th>\n",
       "      <th>q1</th>\n",
       "      <th>q2</th>\n",
       "      <th>q3</th>\n",
       "      <th>q4</th>\n",
       "      <th>q5</th>\n",
       "      <th>q6</th>\n",
       "      <th>q7</th>\n",
       "      <th>q8</th>\n",
       "      <th>q9</th>\n",
       "      <th>q10</th>\n",
       "      <th>Label</th>\n",
       "    </tr>\n",
       "  </thead>\n",
       "  <tbody>\n",
       "    <tr>\n",
       "      <th>0</th>\n",
       "      <td>4</td>\n",
       "      <td>5</td>\n",
       "      <td>3</td>\n",
       "      <td>5</td>\n",
       "      <td>5</td>\n",
       "      <td>2</td>\n",
       "      <td>3</td>\n",
       "      <td>3</td>\n",
       "      <td>3</td>\n",
       "      <td>5</td>\n",
       "      <td>Mixed</td>\n",
       "    </tr>\n",
       "    <tr>\n",
       "      <th>1</th>\n",
       "      <td>4</td>\n",
       "      <td>3</td>\n",
       "      <td>5</td>\n",
       "      <td>2</td>\n",
       "      <td>4</td>\n",
       "      <td>2</td>\n",
       "      <td>4</td>\n",
       "      <td>5</td>\n",
       "      <td>1</td>\n",
       "      <td>4</td>\n",
       "      <td>Authoritative</td>\n",
       "    </tr>\n",
       "    <tr>\n",
       "      <th>2</th>\n",
       "      <td>2</td>\n",
       "      <td>5</td>\n",
       "      <td>4</td>\n",
       "      <td>1</td>\n",
       "      <td>1</td>\n",
       "      <td>3</td>\n",
       "      <td>3</td>\n",
       "      <td>2</td>\n",
       "      <td>4</td>\n",
       "      <td>4</td>\n",
       "      <td>Authoritative</td>\n",
       "    </tr>\n",
       "    <tr>\n",
       "      <th>3</th>\n",
       "      <td>3</td>\n",
       "      <td>4</td>\n",
       "      <td>4</td>\n",
       "      <td>1</td>\n",
       "      <td>3</td>\n",
       "      <td>5</td>\n",
       "      <td>3</td>\n",
       "      <td>5</td>\n",
       "      <td>1</td>\n",
       "      <td>2</td>\n",
       "      <td>Authoritative</td>\n",
       "    </tr>\n",
       "    <tr>\n",
       "      <th>4</th>\n",
       "      <td>4</td>\n",
       "      <td>1</td>\n",
       "      <td>4</td>\n",
       "      <td>2</td>\n",
       "      <td>2</td>\n",
       "      <td>1</td>\n",
       "      <td>2</td>\n",
       "      <td>5</td>\n",
       "      <td>2</td>\n",
       "      <td>4</td>\n",
       "      <td>Authoritative</td>\n",
       "    </tr>\n",
       "  </tbody>\n",
       "</table>\n",
       "</div>"
      ],
      "text/plain": [
       "   q1  q2  q3  q4  q5  q6  q7  q8  q9  q10          Label\n",
       "0   4   5   3   5   5   2   3   3   3    5          Mixed\n",
       "1   4   3   5   2   4   2   4   5   1    4  Authoritative\n",
       "2   2   5   4   1   1   3   3   2   4    4  Authoritative\n",
       "3   3   4   4   1   3   5   3   5   1    2  Authoritative\n",
       "4   4   1   4   2   2   1   2   5   2    4  Authoritative"
      ]
     },
<<<<<<< HEAD
     "execution_count": 107,
=======
     "execution_count": 30,
>>>>>>> origin/master
     "metadata": {},
     "output_type": "execute_result"
    }
   ],
   "source": [
    "# Buat data dummy 10 fitur\n",
    "np.random.seed(42)\n",
    "n_samples = 1000\n",
    "data = []\n",
    "\n",
    "for _ in range(n_samples):\n",
    "    scores = np.random.randint(1, 6, size=10).tolist()  # skor 1–5\n",
    "\n",
    "    # Ambil nilai total untuk tiap gaya\n",
    "    group = {\n",
    "        \"Authoritative\": sum(scores[:3]),\n",
    "        \"Permissive\": sum(scores[3:6]),\n",
    "        \"Democratic\": sum(scores[6:8]),\n",
    "        \"Neglectful\": sum(scores[8:]),\n",
    "    }\n",
    "\n",
    "    max_val = max(group.values())\n",
    "    top_styles = [k for k, v in group.items() if v == max_val]\n",
    "\n",
    "    label = \"Mixed\" if len(top_styles) > 1 else top_styles[0]\n",
    "\n",
    "    data.append(scores + [label])\n",
    "\n",
    "# DataFrame\n",
    "columns = [f\"q{i+1}\" for i in range(10)] + [\"Label\"]\n",
    "df = pd.DataFrame(data, columns=columns)\n",
    "df.head()"
   ]
  },
  {
   "cell_type": "markdown",
   "id": "30ae37c1",
   "metadata": {},
   "source": [
    "# Encode label\n",
    "\n",
    "##### Label (string) dikodekan ke dalam angka (0, 1, 2) dengan LabelEncoder agar bisa diproses oleh algoritma ML.\n",
    "##### Dataset kemudian dibagi menjadi:\n",
    "\n",
    "- 80%: Data latih (X_train, y_train)\n",
    "- 20%: Data uji (X_test, y_test)"
   ]
  },
  {
   "cell_type": "code",
<<<<<<< HEAD
   "execution_count": 108,
=======
   "execution_count": 31,
>>>>>>> origin/master
   "id": "f39b5fd6",
   "metadata": {},
   "outputs": [],
   "source": [
    "le = LabelEncoder()\n",
    "df[\"Label_encoded\"] = le.fit_transform(df[\"Label\"])\n",
    "\n",
    "X = df.drop(columns=[\"Label\", \"Label_encoded\"])\n",
    "y = df[\"Label_encoded\"]\n",
    "\n",
    "# Split dan latih model\n",
    "X_train, X_test, y_train, y_test = train_test_split(X, y, test_size=0.2, random_state=42)"
   ]
  },
  {
   "cell_type": "markdown",
   "id": "9efb0d7d",
   "metadata": {},
   "source": [
    "# Modeling dengan Random Forest\n",
    "\n",
    "- Menggunakan Random Forest Classifier, cocok untuk klasifikasi multi-kelas dan robust terhadap overfitting.\n",
    "- n_estimators=100: jumlah pohon dalam hutan acak."
   ]
  },
  {
   "cell_type": "code",
<<<<<<< HEAD
   "execution_count": 109,
=======
   "execution_count": 32,
>>>>>>> origin/master
   "id": "ef9156fc",
   "metadata": {},
   "outputs": [
    {
     "data": {
      "text/html": [
<<<<<<< HEAD
       "<style>#sk-container-id-7 {\n",
=======
       "<style>#sk-container-id-2 {\n",
>>>>>>> origin/master
       "  /* Definition of color scheme common for light and dark mode */\n",
       "  --sklearn-color-text: #000;\n",
       "  --sklearn-color-text-muted: #666;\n",
       "  --sklearn-color-line: gray;\n",
       "  /* Definition of color scheme for unfitted estimators */\n",
       "  --sklearn-color-unfitted-level-0: #fff5e6;\n",
       "  --sklearn-color-unfitted-level-1: #f6e4d2;\n",
       "  --sklearn-color-unfitted-level-2: #ffe0b3;\n",
       "  --sklearn-color-unfitted-level-3: chocolate;\n",
       "  /* Definition of color scheme for fitted estimators */\n",
       "  --sklearn-color-fitted-level-0: #f0f8ff;\n",
       "  --sklearn-color-fitted-level-1: #d4ebff;\n",
       "  --sklearn-color-fitted-level-2: #b3dbfd;\n",
       "  --sklearn-color-fitted-level-3: cornflowerblue;\n",
       "\n",
       "  /* Specific color for light theme */\n",
       "  --sklearn-color-text-on-default-background: var(--sg-text-color, var(--theme-code-foreground, var(--jp-content-font-color1, black)));\n",
       "  --sklearn-color-background: var(--sg-background-color, var(--theme-background, var(--jp-layout-color0, white)));\n",
       "  --sklearn-color-border-box: var(--sg-text-color, var(--theme-code-foreground, var(--jp-content-font-color1, black)));\n",
       "  --sklearn-color-icon: #696969;\n",
       "\n",
       "  @media (prefers-color-scheme: dark) {\n",
       "    /* Redefinition of color scheme for dark theme */\n",
       "    --sklearn-color-text-on-default-background: var(--sg-text-color, var(--theme-code-foreground, var(--jp-content-font-color1, white)));\n",
       "    --sklearn-color-background: var(--sg-background-color, var(--theme-background, var(--jp-layout-color0, #111)));\n",
       "    --sklearn-color-border-box: var(--sg-text-color, var(--theme-code-foreground, var(--jp-content-font-color1, white)));\n",
       "    --sklearn-color-icon: #878787;\n",
       "  }\n",
       "}\n",
       "\n",
<<<<<<< HEAD
       "#sk-container-id-7 {\n",
       "  color: var(--sklearn-color-text);\n",
       "}\n",
       "\n",
       "#sk-container-id-7 pre {\n",
       "  padding: 0;\n",
       "}\n",
       "\n",
       "#sk-container-id-7 input.sk-hidden--visually {\n",
=======
       "#sk-container-id-2 {\n",
       "  color: var(--sklearn-color-text);\n",
       "}\n",
       "\n",
       "#sk-container-id-2 pre {\n",
       "  padding: 0;\n",
       "}\n",
       "\n",
       "#sk-container-id-2 input.sk-hidden--visually {\n",
>>>>>>> origin/master
       "  border: 0;\n",
       "  clip: rect(1px 1px 1px 1px);\n",
       "  clip: rect(1px, 1px, 1px, 1px);\n",
       "  height: 1px;\n",
       "  margin: -1px;\n",
       "  overflow: hidden;\n",
       "  padding: 0;\n",
       "  position: absolute;\n",
       "  width: 1px;\n",
       "}\n",
       "\n",
<<<<<<< HEAD
       "#sk-container-id-7 div.sk-dashed-wrapped {\n",
=======
       "#sk-container-id-2 div.sk-dashed-wrapped {\n",
>>>>>>> origin/master
       "  border: 1px dashed var(--sklearn-color-line);\n",
       "  margin: 0 0.4em 0.5em 0.4em;\n",
       "  box-sizing: border-box;\n",
       "  padding-bottom: 0.4em;\n",
       "  background-color: var(--sklearn-color-background);\n",
       "}\n",
       "\n",
<<<<<<< HEAD
       "#sk-container-id-7 div.sk-container {\n",
=======
       "#sk-container-id-2 div.sk-container {\n",
>>>>>>> origin/master
       "  /* jupyter's `normalize.less` sets `[hidden] { display: none; }`\n",
       "     but bootstrap.min.css set `[hidden] { display: none !important; }`\n",
       "     so we also need the `!important` here to be able to override the\n",
       "     default hidden behavior on the sphinx rendered scikit-learn.org.\n",
       "     See: https://github.com/scikit-learn/scikit-learn/issues/21755 */\n",
       "  display: inline-block !important;\n",
       "  position: relative;\n",
       "}\n",
       "\n",
<<<<<<< HEAD
       "#sk-container-id-7 div.sk-text-repr-fallback {\n",
=======
       "#sk-container-id-2 div.sk-text-repr-fallback {\n",
>>>>>>> origin/master
       "  display: none;\n",
       "}\n",
       "\n",
       "div.sk-parallel-item,\n",
       "div.sk-serial,\n",
       "div.sk-item {\n",
       "  /* draw centered vertical line to link estimators */\n",
       "  background-image: linear-gradient(var(--sklearn-color-text-on-default-background), var(--sklearn-color-text-on-default-background));\n",
       "  background-size: 2px 100%;\n",
       "  background-repeat: no-repeat;\n",
       "  background-position: center center;\n",
       "}\n",
       "\n",
       "/* Parallel-specific style estimator block */\n",
       "\n",
<<<<<<< HEAD
       "#sk-container-id-7 div.sk-parallel-item::after {\n",
=======
       "#sk-container-id-2 div.sk-parallel-item::after {\n",
>>>>>>> origin/master
       "  content: \"\";\n",
       "  width: 100%;\n",
       "  border-bottom: 2px solid var(--sklearn-color-text-on-default-background);\n",
       "  flex-grow: 1;\n",
       "}\n",
       "\n",
<<<<<<< HEAD
       "#sk-container-id-7 div.sk-parallel {\n",
=======
       "#sk-container-id-2 div.sk-parallel {\n",
>>>>>>> origin/master
       "  display: flex;\n",
       "  align-items: stretch;\n",
       "  justify-content: center;\n",
       "  background-color: var(--sklearn-color-background);\n",
       "  position: relative;\n",
       "}\n",
       "\n",
<<<<<<< HEAD
       "#sk-container-id-7 div.sk-parallel-item {\n",
=======
       "#sk-container-id-2 div.sk-parallel-item {\n",
>>>>>>> origin/master
       "  display: flex;\n",
       "  flex-direction: column;\n",
       "}\n",
       "\n",
<<<<<<< HEAD
       "#sk-container-id-7 div.sk-parallel-item:first-child::after {\n",
=======
       "#sk-container-id-2 div.sk-parallel-item:first-child::after {\n",
>>>>>>> origin/master
       "  align-self: flex-end;\n",
       "  width: 50%;\n",
       "}\n",
       "\n",
<<<<<<< HEAD
       "#sk-container-id-7 div.sk-parallel-item:last-child::after {\n",
=======
       "#sk-container-id-2 div.sk-parallel-item:last-child::after {\n",
>>>>>>> origin/master
       "  align-self: flex-start;\n",
       "  width: 50%;\n",
       "}\n",
       "\n",
<<<<<<< HEAD
       "#sk-container-id-7 div.sk-parallel-item:only-child::after {\n",
=======
       "#sk-container-id-2 div.sk-parallel-item:only-child::after {\n",
>>>>>>> origin/master
       "  width: 0;\n",
       "}\n",
       "\n",
       "/* Serial-specific style estimator block */\n",
       "\n",
<<<<<<< HEAD
       "#sk-container-id-7 div.sk-serial {\n",
=======
       "#sk-container-id-2 div.sk-serial {\n",
>>>>>>> origin/master
       "  display: flex;\n",
       "  flex-direction: column;\n",
       "  align-items: center;\n",
       "  background-color: var(--sklearn-color-background);\n",
       "  padding-right: 1em;\n",
       "  padding-left: 1em;\n",
       "}\n",
       "\n",
       "\n",
       "/* Toggleable style: style used for estimator/Pipeline/ColumnTransformer box that is\n",
       "clickable and can be expanded/collapsed.\n",
       "- Pipeline and ColumnTransformer use this feature and define the default style\n",
       "- Estimators will overwrite some part of the style using the `sk-estimator` class\n",
       "*/\n",
       "\n",
       "/* Pipeline and ColumnTransformer style (default) */\n",
       "\n",
<<<<<<< HEAD
       "#sk-container-id-7 div.sk-toggleable {\n",
=======
       "#sk-container-id-2 div.sk-toggleable {\n",
>>>>>>> origin/master
       "  /* Default theme specific background. It is overwritten whether we have a\n",
       "  specific estimator or a Pipeline/ColumnTransformer */\n",
       "  background-color: var(--sklearn-color-background);\n",
       "}\n",
       "\n",
       "/* Toggleable label */\n",
<<<<<<< HEAD
       "#sk-container-id-7 label.sk-toggleable__label {\n",
=======
       "#sk-container-id-2 label.sk-toggleable__label {\n",
>>>>>>> origin/master
       "  cursor: pointer;\n",
       "  display: flex;\n",
       "  width: 100%;\n",
       "  margin-bottom: 0;\n",
       "  padding: 0.5em;\n",
       "  box-sizing: border-box;\n",
       "  text-align: center;\n",
       "  align-items: start;\n",
       "  justify-content: space-between;\n",
       "  gap: 0.5em;\n",
       "}\n",
       "\n",
<<<<<<< HEAD
       "#sk-container-id-7 label.sk-toggleable__label .caption {\n",
=======
       "#sk-container-id-2 label.sk-toggleable__label .caption {\n",
>>>>>>> origin/master
       "  font-size: 0.6rem;\n",
       "  font-weight: lighter;\n",
       "  color: var(--sklearn-color-text-muted);\n",
       "}\n",
       "\n",
<<<<<<< HEAD
       "#sk-container-id-7 label.sk-toggleable__label-arrow:before {\n",
=======
       "#sk-container-id-2 label.sk-toggleable__label-arrow:before {\n",
>>>>>>> origin/master
       "  /* Arrow on the left of the label */\n",
       "  content: \"▸\";\n",
       "  float: left;\n",
       "  margin-right: 0.25em;\n",
       "  color: var(--sklearn-color-icon);\n",
       "}\n",
       "\n",
<<<<<<< HEAD
       "#sk-container-id-7 label.sk-toggleable__label-arrow:hover:before {\n",
=======
       "#sk-container-id-2 label.sk-toggleable__label-arrow:hover:before {\n",
>>>>>>> origin/master
       "  color: var(--sklearn-color-text);\n",
       "}\n",
       "\n",
       "/* Toggleable content - dropdown */\n",
       "\n",
<<<<<<< HEAD
       "#sk-container-id-7 div.sk-toggleable__content {\n",
       "  max-height: 0;\n",
       "  max-width: 0;\n",
       "  overflow: hidden;\n",
=======
       "#sk-container-id-2 div.sk-toggleable__content {\n",
       "  display: none;\n",
>>>>>>> origin/master
       "  text-align: left;\n",
       "  /* unfitted */\n",
       "  background-color: var(--sklearn-color-unfitted-level-0);\n",
       "}\n",
       "\n",
<<<<<<< HEAD
       "#sk-container-id-7 div.sk-toggleable__content.fitted {\n",
=======
       "#sk-container-id-2 div.sk-toggleable__content.fitted {\n",
>>>>>>> origin/master
       "  /* fitted */\n",
       "  background-color: var(--sklearn-color-fitted-level-0);\n",
       "}\n",
       "\n",
<<<<<<< HEAD
       "#sk-container-id-7 div.sk-toggleable__content pre {\n",
=======
       "#sk-container-id-2 div.sk-toggleable__content pre {\n",
>>>>>>> origin/master
       "  margin: 0.2em;\n",
       "  border-radius: 0.25em;\n",
       "  color: var(--sklearn-color-text);\n",
       "  /* unfitted */\n",
       "  background-color: var(--sklearn-color-unfitted-level-0);\n",
       "}\n",
       "\n",
<<<<<<< HEAD
       "#sk-container-id-7 div.sk-toggleable__content.fitted pre {\n",
=======
       "#sk-container-id-2 div.sk-toggleable__content.fitted pre {\n",
>>>>>>> origin/master
       "  /* unfitted */\n",
       "  background-color: var(--sklearn-color-fitted-level-0);\n",
       "}\n",
       "\n",
<<<<<<< HEAD
       "#sk-container-id-7 input.sk-toggleable__control:checked~div.sk-toggleable__content {\n",
       "  /* Expand drop-down */\n",
       "  max-height: 200px;\n",
       "  max-width: 100%;\n",
       "  overflow: auto;\n",
       "}\n",
       "\n",
       "#sk-container-id-7 input.sk-toggleable__control:checked~label.sk-toggleable__label-arrow:before {\n",
=======
       "#sk-container-id-2 input.sk-toggleable__control:checked~div.sk-toggleable__content {\n",
       "  /* Expand drop-down */\n",
       "  display: block;\n",
       "  width: 100%;\n",
       "  overflow: visible;\n",
       "}\n",
       "\n",
       "#sk-container-id-2 input.sk-toggleable__control:checked~label.sk-toggleable__label-arrow:before {\n",
>>>>>>> origin/master
       "  content: \"▾\";\n",
       "}\n",
       "\n",
       "/* Pipeline/ColumnTransformer-specific style */\n",
       "\n",
<<<<<<< HEAD
       "#sk-container-id-7 div.sk-label input.sk-toggleable__control:checked~label.sk-toggleable__label {\n",
=======
       "#sk-container-id-2 div.sk-label input.sk-toggleable__control:checked~label.sk-toggleable__label {\n",
>>>>>>> origin/master
       "  color: var(--sklearn-color-text);\n",
       "  background-color: var(--sklearn-color-unfitted-level-2);\n",
       "}\n",
       "\n",
<<<<<<< HEAD
       "#sk-container-id-7 div.sk-label.fitted input.sk-toggleable__control:checked~label.sk-toggleable__label {\n",
=======
       "#sk-container-id-2 div.sk-label.fitted input.sk-toggleable__control:checked~label.sk-toggleable__label {\n",
>>>>>>> origin/master
       "  background-color: var(--sklearn-color-fitted-level-2);\n",
       "}\n",
       "\n",
       "/* Estimator-specific style */\n",
       "\n",
       "/* Colorize estimator box */\n",
<<<<<<< HEAD
       "#sk-container-id-7 div.sk-estimator input.sk-toggleable__control:checked~label.sk-toggleable__label {\n",
=======
       "#sk-container-id-2 div.sk-estimator input.sk-toggleable__control:checked~label.sk-toggleable__label {\n",
>>>>>>> origin/master
       "  /* unfitted */\n",
       "  background-color: var(--sklearn-color-unfitted-level-2);\n",
       "}\n",
       "\n",
<<<<<<< HEAD
       "#sk-container-id-7 div.sk-estimator.fitted input.sk-toggleable__control:checked~label.sk-toggleable__label {\n",
=======
       "#sk-container-id-2 div.sk-estimator.fitted input.sk-toggleable__control:checked~label.sk-toggleable__label {\n",
>>>>>>> origin/master
       "  /* fitted */\n",
       "  background-color: var(--sklearn-color-fitted-level-2);\n",
       "}\n",
       "\n",
<<<<<<< HEAD
       "#sk-container-id-7 div.sk-label label.sk-toggleable__label,\n",
       "#sk-container-id-7 div.sk-label label {\n",
=======
       "#sk-container-id-2 div.sk-label label.sk-toggleable__label,\n",
       "#sk-container-id-2 div.sk-label label {\n",
>>>>>>> origin/master
       "  /* The background is the default theme color */\n",
       "  color: var(--sklearn-color-text-on-default-background);\n",
       "}\n",
       "\n",
       "/* On hover, darken the color of the background */\n",
<<<<<<< HEAD
       "#sk-container-id-7 div.sk-label:hover label.sk-toggleable__label {\n",
=======
       "#sk-container-id-2 div.sk-label:hover label.sk-toggleable__label {\n",
>>>>>>> origin/master
       "  color: var(--sklearn-color-text);\n",
       "  background-color: var(--sklearn-color-unfitted-level-2);\n",
       "}\n",
       "\n",
       "/* Label box, darken color on hover, fitted */\n",
<<<<<<< HEAD
       "#sk-container-id-7 div.sk-label.fitted:hover label.sk-toggleable__label.fitted {\n",
=======
       "#sk-container-id-2 div.sk-label.fitted:hover label.sk-toggleable__label.fitted {\n",
>>>>>>> origin/master
       "  color: var(--sklearn-color-text);\n",
       "  background-color: var(--sklearn-color-fitted-level-2);\n",
       "}\n",
       "\n",
       "/* Estimator label */\n",
       "\n",
<<<<<<< HEAD
       "#sk-container-id-7 div.sk-label label {\n",
=======
       "#sk-container-id-2 div.sk-label label {\n",
>>>>>>> origin/master
       "  font-family: monospace;\n",
       "  font-weight: bold;\n",
       "  display: inline-block;\n",
       "  line-height: 1.2em;\n",
       "}\n",
       "\n",
<<<<<<< HEAD
       "#sk-container-id-7 div.sk-label-container {\n",
=======
       "#sk-container-id-2 div.sk-label-container {\n",
>>>>>>> origin/master
       "  text-align: center;\n",
       "}\n",
       "\n",
       "/* Estimator-specific */\n",
<<<<<<< HEAD
       "#sk-container-id-7 div.sk-estimator {\n",
=======
       "#sk-container-id-2 div.sk-estimator {\n",
>>>>>>> origin/master
       "  font-family: monospace;\n",
       "  border: 1px dotted var(--sklearn-color-border-box);\n",
       "  border-radius: 0.25em;\n",
       "  box-sizing: border-box;\n",
       "  margin-bottom: 0.5em;\n",
       "  /* unfitted */\n",
       "  background-color: var(--sklearn-color-unfitted-level-0);\n",
       "}\n",
       "\n",
<<<<<<< HEAD
       "#sk-container-id-7 div.sk-estimator.fitted {\n",
=======
       "#sk-container-id-2 div.sk-estimator.fitted {\n",
>>>>>>> origin/master
       "  /* fitted */\n",
       "  background-color: var(--sklearn-color-fitted-level-0);\n",
       "}\n",
       "\n",
       "/* on hover */\n",
<<<<<<< HEAD
       "#sk-container-id-7 div.sk-estimator:hover {\n",
=======
       "#sk-container-id-2 div.sk-estimator:hover {\n",
>>>>>>> origin/master
       "  /* unfitted */\n",
       "  background-color: var(--sklearn-color-unfitted-level-2);\n",
       "}\n",
       "\n",
<<<<<<< HEAD
       "#sk-container-id-7 div.sk-estimator.fitted:hover {\n",
=======
       "#sk-container-id-2 div.sk-estimator.fitted:hover {\n",
>>>>>>> origin/master
       "  /* fitted */\n",
       "  background-color: var(--sklearn-color-fitted-level-2);\n",
       "}\n",
       "\n",
       "/* Specification for estimator info (e.g. \"i\" and \"?\") */\n",
       "\n",
       "/* Common style for \"i\" and \"?\" */\n",
       "\n",
       ".sk-estimator-doc-link,\n",
       "a:link.sk-estimator-doc-link,\n",
       "a:visited.sk-estimator-doc-link {\n",
       "  float: right;\n",
       "  font-size: smaller;\n",
       "  line-height: 1em;\n",
       "  font-family: monospace;\n",
       "  background-color: var(--sklearn-color-background);\n",
       "  border-radius: 1em;\n",
       "  height: 1em;\n",
       "  width: 1em;\n",
       "  text-decoration: none !important;\n",
       "  margin-left: 0.5em;\n",
       "  text-align: center;\n",
       "  /* unfitted */\n",
       "  border: var(--sklearn-color-unfitted-level-1) 1pt solid;\n",
       "  color: var(--sklearn-color-unfitted-level-1);\n",
       "}\n",
       "\n",
       ".sk-estimator-doc-link.fitted,\n",
       "a:link.sk-estimator-doc-link.fitted,\n",
       "a:visited.sk-estimator-doc-link.fitted {\n",
       "  /* fitted */\n",
       "  border: var(--sklearn-color-fitted-level-1) 1pt solid;\n",
       "  color: var(--sklearn-color-fitted-level-1);\n",
       "}\n",
       "\n",
       "/* On hover */\n",
       "div.sk-estimator:hover .sk-estimator-doc-link:hover,\n",
       ".sk-estimator-doc-link:hover,\n",
       "div.sk-label-container:hover .sk-estimator-doc-link:hover,\n",
       ".sk-estimator-doc-link:hover {\n",
       "  /* unfitted */\n",
       "  background-color: var(--sklearn-color-unfitted-level-3);\n",
       "  color: var(--sklearn-color-background);\n",
       "  text-decoration: none;\n",
       "}\n",
       "\n",
       "div.sk-estimator.fitted:hover .sk-estimator-doc-link.fitted:hover,\n",
       ".sk-estimator-doc-link.fitted:hover,\n",
       "div.sk-label-container:hover .sk-estimator-doc-link.fitted:hover,\n",
       ".sk-estimator-doc-link.fitted:hover {\n",
       "  /* fitted */\n",
       "  background-color: var(--sklearn-color-fitted-level-3);\n",
       "  color: var(--sklearn-color-background);\n",
       "  text-decoration: none;\n",
       "}\n",
       "\n",
       "/* Span, style for the box shown on hovering the info icon */\n",
       ".sk-estimator-doc-link span {\n",
       "  display: none;\n",
       "  z-index: 9999;\n",
       "  position: relative;\n",
       "  font-weight: normal;\n",
       "  right: .2ex;\n",
       "  padding: .5ex;\n",
       "  margin: .5ex;\n",
       "  width: min-content;\n",
       "  min-width: 20ex;\n",
       "  max-width: 50ex;\n",
       "  color: var(--sklearn-color-text);\n",
       "  box-shadow: 2pt 2pt 4pt #999;\n",
       "  /* unfitted */\n",
       "  background: var(--sklearn-color-unfitted-level-0);\n",
       "  border: .5pt solid var(--sklearn-color-unfitted-level-3);\n",
       "}\n",
       "\n",
       ".sk-estimator-doc-link.fitted span {\n",
       "  /* fitted */\n",
       "  background: var(--sklearn-color-fitted-level-0);\n",
       "  border: var(--sklearn-color-fitted-level-3);\n",
       "}\n",
       "\n",
       ".sk-estimator-doc-link:hover span {\n",
       "  display: block;\n",
       "}\n",
       "\n",
       "/* \"?\"-specific style due to the `<a>` HTML tag */\n",
       "\n",
<<<<<<< HEAD
       "#sk-container-id-7 a.estimator_doc_link {\n",
=======
       "#sk-container-id-2 a.estimator_doc_link {\n",
>>>>>>> origin/master
       "  float: right;\n",
       "  font-size: 1rem;\n",
       "  line-height: 1em;\n",
       "  font-family: monospace;\n",
       "  background-color: var(--sklearn-color-background);\n",
       "  border-radius: 1rem;\n",
       "  height: 1rem;\n",
       "  width: 1rem;\n",
       "  text-decoration: none;\n",
       "  /* unfitted */\n",
       "  color: var(--sklearn-color-unfitted-level-1);\n",
       "  border: var(--sklearn-color-unfitted-level-1) 1pt solid;\n",
       "}\n",
       "\n",
<<<<<<< HEAD
       "#sk-container-id-7 a.estimator_doc_link.fitted {\n",
=======
       "#sk-container-id-2 a.estimator_doc_link.fitted {\n",
>>>>>>> origin/master
       "  /* fitted */\n",
       "  border: var(--sklearn-color-fitted-level-1) 1pt solid;\n",
       "  color: var(--sklearn-color-fitted-level-1);\n",
       "}\n",
       "\n",
       "/* On hover */\n",
<<<<<<< HEAD
       "#sk-container-id-7 a.estimator_doc_link:hover {\n",
=======
       "#sk-container-id-2 a.estimator_doc_link:hover {\n",
>>>>>>> origin/master
       "  /* unfitted */\n",
       "  background-color: var(--sklearn-color-unfitted-level-3);\n",
       "  color: var(--sklearn-color-background);\n",
       "  text-decoration: none;\n",
       "}\n",
       "\n",
<<<<<<< HEAD
       "#sk-container-id-7 a.estimator_doc_link.fitted:hover {\n",
       "  /* fitted */\n",
       "  background-color: var(--sklearn-color-fitted-level-3);\n",
       "}\n",
       "</style><div id=\"sk-container-id-7\" class=\"sk-top-container\"><div class=\"sk-text-repr-fallback\"><pre>RandomForestClassifier(random_state=42)</pre><b>In a Jupyter environment, please rerun this cell to show the HTML representation or trust the notebook. <br />On GitHub, the HTML representation is unable to render, please try loading this page with nbviewer.org.</b></div><div class=\"sk-container\" hidden><div class=\"sk-item\"><div class=\"sk-estimator fitted sk-toggleable\"><input class=\"sk-toggleable__control sk-hidden--visually\" id=\"sk-estimator-id-7\" type=\"checkbox\" checked><label for=\"sk-estimator-id-7\" class=\"sk-toggleable__label fitted sk-toggleable__label-arrow\"><div><div>RandomForestClassifier</div></div><div><a class=\"sk-estimator-doc-link fitted\" rel=\"noreferrer\" target=\"_blank\" href=\"https://scikit-learn.org/1.6/modules/generated/sklearn.ensemble.RandomForestClassifier.html\">?<span>Documentation for RandomForestClassifier</span></a><span class=\"sk-estimator-doc-link fitted\">i<span>Fitted</span></span></div></label><div class=\"sk-toggleable__content fitted\"><pre>RandomForestClassifier(random_state=42)</pre></div> </div></div></div></div>"
=======
       "#sk-container-id-2 a.estimator_doc_link.fitted:hover {\n",
       "  /* fitted */\n",
       "  background-color: var(--sklearn-color-fitted-level-3);\n",
       "}\n",
       "\n",
       ".estimator-table summary {\n",
       "    padding: .5rem;\n",
       "    font-family: monospace;\n",
       "    cursor: pointer;\n",
       "}\n",
       "\n",
       ".estimator-table details[open] {\n",
       "    padding-left: 0.1rem;\n",
       "    padding-right: 0.1rem;\n",
       "    padding-bottom: 0.3rem;\n",
       "}\n",
       "\n",
       ".estimator-table .parameters-table {\n",
       "    margin-left: auto !important;\n",
       "    margin-right: auto !important;\n",
       "}\n",
       "\n",
       ".estimator-table .parameters-table tr:nth-child(odd) {\n",
       "    background-color: #fff;\n",
       "}\n",
       "\n",
       ".estimator-table .parameters-table tr:nth-child(even) {\n",
       "    background-color: #f6f6f6;\n",
       "}\n",
       "\n",
       ".estimator-table .parameters-table tr:hover {\n",
       "    background-color: #e0e0e0;\n",
       "}\n",
       "\n",
       ".estimator-table table td {\n",
       "    border: 1px solid rgba(106, 105, 104, 0.232);\n",
       "}\n",
       "\n",
       ".user-set td {\n",
       "    color:rgb(255, 94, 0);\n",
       "    text-align: left;\n",
       "}\n",
       "\n",
       ".user-set td.value pre {\n",
       "    color:rgb(255, 94, 0) !important;\n",
       "    background-color: transparent !important;\n",
       "}\n",
       "\n",
       ".default td {\n",
       "    color: black;\n",
       "    text-align: left;\n",
       "}\n",
       "\n",
       ".user-set td i,\n",
       ".default td i {\n",
       "    color: black;\n",
       "}\n",
       "\n",
       ".copy-paste-icon {\n",
       "    background-image: url(data:image/svg+xml;base64,PHN2ZyB4bWxucz0iaHR0cDovL3d3dy53My5vcmcvMjAwMC9zdmciIHZpZXdCb3g9IjAgMCA0NDggNTEyIj48IS0tIUZvbnQgQXdlc29tZSBGcmVlIDYuNy4yIGJ5IEBmb250YXdlc29tZSAtIGh0dHBzOi8vZm9udGF3ZXNvbWUuY29tIExpY2Vuc2UgLSBodHRwczovL2ZvbnRhd2Vzb21lLmNvbS9saWNlbnNlL2ZyZWUgQ29weXJpZ2h0IDIwMjUgRm9udGljb25zLCBJbmMuLS0+PHBhdGggZD0iTTIwOCAwTDMzMi4xIDBjMTIuNyAwIDI0LjkgNS4xIDMzLjkgMTQuMWw2Ny45IDY3LjljOSA5IDE0LjEgMjEuMiAxNC4xIDMzLjlMNDQ4IDMzNmMwIDI2LjUtMjEuNSA0OC00OCA0OGwtMTkyIDBjLTI2LjUgMC00OC0yMS41LTQ4LTQ4bDAtMjg4YzAtMjYuNSAyMS41LTQ4IDQ4LTQ4ek00OCAxMjhsODAgMCAwIDY0LTY0IDAgMCAyNTYgMTkyIDAgMC0zMiA2NCAwIDAgNDhjMCAyNi41LTIxLjUgNDgtNDggNDhMNDggNTEyYy0yNi41IDAtNDgtMjEuNS00OC00OEwwIDE3NmMwLTI2LjUgMjEuNS00OCA0OC00OHoiLz48L3N2Zz4=);\n",
       "    background-repeat: no-repeat;\n",
       "    background-size: 14px 14px;\n",
       "    background-position: 0;\n",
       "    display: inline-block;\n",
       "    width: 14px;\n",
       "    height: 14px;\n",
       "    cursor: pointer;\n",
       "}\n",
       "</style><body><div id=\"sk-container-id-2\" class=\"sk-top-container\"><div class=\"sk-text-repr-fallback\"><pre>RandomForestClassifier(random_state=42)</pre><b>In a Jupyter environment, please rerun this cell to show the HTML representation or trust the notebook. <br />On GitHub, the HTML representation is unable to render, please try loading this page with nbviewer.org.</b></div><div class=\"sk-container\" hidden><div class=\"sk-item\"><div class=\"sk-estimator fitted sk-toggleable\"><input class=\"sk-toggleable__control sk-hidden--visually\" id=\"sk-estimator-id-2\" type=\"checkbox\" checked><label for=\"sk-estimator-id-2\" class=\"sk-toggleable__label fitted sk-toggleable__label-arrow\"><div><div>RandomForestClassifier</div></div><div><a class=\"sk-estimator-doc-link fitted\" rel=\"noreferrer\" target=\"_blank\" href=\"https://scikit-learn.org/1.7/modules/generated/sklearn.ensemble.RandomForestClassifier.html\">?<span>Documentation for RandomForestClassifier</span></a><span class=\"sk-estimator-doc-link fitted\">i<span>Fitted</span></span></div></label><div class=\"sk-toggleable__content fitted\" data-param-prefix=\"\">\n",
       "        <div class=\"estimator-table\">\n",
       "            <details>\n",
       "                <summary>Parameters</summary>\n",
       "                <table class=\"parameters-table\">\n",
       "                  <tbody>\n",
       "                    \n",
       "        <tr class=\"default\">\n",
       "            <td><i class=\"copy-paste-icon\"\n",
       "                 onclick=\"copyToClipboard('n_estimators',\n",
       "                          this.parentElement.nextElementSibling)\"\n",
       "            ></i></td>\n",
       "            <td class=\"param\">n_estimators&nbsp;</td>\n",
       "            <td class=\"value\">100</td>\n",
       "        </tr>\n",
       "    \n",
       "\n",
       "        <tr class=\"default\">\n",
       "            <td><i class=\"copy-paste-icon\"\n",
       "                 onclick=\"copyToClipboard('criterion',\n",
       "                          this.parentElement.nextElementSibling)\"\n",
       "            ></i></td>\n",
       "            <td class=\"param\">criterion&nbsp;</td>\n",
       "            <td class=\"value\">&#x27;gini&#x27;</td>\n",
       "        </tr>\n",
       "    \n",
       "\n",
       "        <tr class=\"default\">\n",
       "            <td><i class=\"copy-paste-icon\"\n",
       "                 onclick=\"copyToClipboard('max_depth',\n",
       "                          this.parentElement.nextElementSibling)\"\n",
       "            ></i></td>\n",
       "            <td class=\"param\">max_depth&nbsp;</td>\n",
       "            <td class=\"value\">None</td>\n",
       "        </tr>\n",
       "    \n",
       "\n",
       "        <tr class=\"default\">\n",
       "            <td><i class=\"copy-paste-icon\"\n",
       "                 onclick=\"copyToClipboard('min_samples_split',\n",
       "                          this.parentElement.nextElementSibling)\"\n",
       "            ></i></td>\n",
       "            <td class=\"param\">min_samples_split&nbsp;</td>\n",
       "            <td class=\"value\">2</td>\n",
       "        </tr>\n",
       "    \n",
       "\n",
       "        <tr class=\"default\">\n",
       "            <td><i class=\"copy-paste-icon\"\n",
       "                 onclick=\"copyToClipboard('min_samples_leaf',\n",
       "                          this.parentElement.nextElementSibling)\"\n",
       "            ></i></td>\n",
       "            <td class=\"param\">min_samples_leaf&nbsp;</td>\n",
       "            <td class=\"value\">1</td>\n",
       "        </tr>\n",
       "    \n",
       "\n",
       "        <tr class=\"default\">\n",
       "            <td><i class=\"copy-paste-icon\"\n",
       "                 onclick=\"copyToClipboard('min_weight_fraction_leaf',\n",
       "                          this.parentElement.nextElementSibling)\"\n",
       "            ></i></td>\n",
       "            <td class=\"param\">min_weight_fraction_leaf&nbsp;</td>\n",
       "            <td class=\"value\">0.0</td>\n",
       "        </tr>\n",
       "    \n",
       "\n",
       "        <tr class=\"default\">\n",
       "            <td><i class=\"copy-paste-icon\"\n",
       "                 onclick=\"copyToClipboard('max_features',\n",
       "                          this.parentElement.nextElementSibling)\"\n",
       "            ></i></td>\n",
       "            <td class=\"param\">max_features&nbsp;</td>\n",
       "            <td class=\"value\">&#x27;sqrt&#x27;</td>\n",
       "        </tr>\n",
       "    \n",
       "\n",
       "        <tr class=\"default\">\n",
       "            <td><i class=\"copy-paste-icon\"\n",
       "                 onclick=\"copyToClipboard('max_leaf_nodes',\n",
       "                          this.parentElement.nextElementSibling)\"\n",
       "            ></i></td>\n",
       "            <td class=\"param\">max_leaf_nodes&nbsp;</td>\n",
       "            <td class=\"value\">None</td>\n",
       "        </tr>\n",
       "    \n",
       "\n",
       "        <tr class=\"default\">\n",
       "            <td><i class=\"copy-paste-icon\"\n",
       "                 onclick=\"copyToClipboard('min_impurity_decrease',\n",
       "                          this.parentElement.nextElementSibling)\"\n",
       "            ></i></td>\n",
       "            <td class=\"param\">min_impurity_decrease&nbsp;</td>\n",
       "            <td class=\"value\">0.0</td>\n",
       "        </tr>\n",
       "    \n",
       "\n",
       "        <tr class=\"default\">\n",
       "            <td><i class=\"copy-paste-icon\"\n",
       "                 onclick=\"copyToClipboard('bootstrap',\n",
       "                          this.parentElement.nextElementSibling)\"\n",
       "            ></i></td>\n",
       "            <td class=\"param\">bootstrap&nbsp;</td>\n",
       "            <td class=\"value\">True</td>\n",
       "        </tr>\n",
       "    \n",
       "\n",
       "        <tr class=\"default\">\n",
       "            <td><i class=\"copy-paste-icon\"\n",
       "                 onclick=\"copyToClipboard('oob_score',\n",
       "                          this.parentElement.nextElementSibling)\"\n",
       "            ></i></td>\n",
       "            <td class=\"param\">oob_score&nbsp;</td>\n",
       "            <td class=\"value\">False</td>\n",
       "        </tr>\n",
       "    \n",
       "\n",
       "        <tr class=\"default\">\n",
       "            <td><i class=\"copy-paste-icon\"\n",
       "                 onclick=\"copyToClipboard('n_jobs',\n",
       "                          this.parentElement.nextElementSibling)\"\n",
       "            ></i></td>\n",
       "            <td class=\"param\">n_jobs&nbsp;</td>\n",
       "            <td class=\"value\">None</td>\n",
       "        </tr>\n",
       "    \n",
       "\n",
       "        <tr class=\"user-set\">\n",
       "            <td><i class=\"copy-paste-icon\"\n",
       "                 onclick=\"copyToClipboard('random_state',\n",
       "                          this.parentElement.nextElementSibling)\"\n",
       "            ></i></td>\n",
       "            <td class=\"param\">random_state&nbsp;</td>\n",
       "            <td class=\"value\">42</td>\n",
       "        </tr>\n",
       "    \n",
       "\n",
       "        <tr class=\"default\">\n",
       "            <td><i class=\"copy-paste-icon\"\n",
       "                 onclick=\"copyToClipboard('verbose',\n",
       "                          this.parentElement.nextElementSibling)\"\n",
       "            ></i></td>\n",
       "            <td class=\"param\">verbose&nbsp;</td>\n",
       "            <td class=\"value\">0</td>\n",
       "        </tr>\n",
       "    \n",
       "\n",
       "        <tr class=\"default\">\n",
       "            <td><i class=\"copy-paste-icon\"\n",
       "                 onclick=\"copyToClipboard('warm_start',\n",
       "                          this.parentElement.nextElementSibling)\"\n",
       "            ></i></td>\n",
       "            <td class=\"param\">warm_start&nbsp;</td>\n",
       "            <td class=\"value\">False</td>\n",
       "        </tr>\n",
       "    \n",
       "\n",
       "        <tr class=\"default\">\n",
       "            <td><i class=\"copy-paste-icon\"\n",
       "                 onclick=\"copyToClipboard('class_weight',\n",
       "                          this.parentElement.nextElementSibling)\"\n",
       "            ></i></td>\n",
       "            <td class=\"param\">class_weight&nbsp;</td>\n",
       "            <td class=\"value\">None</td>\n",
       "        </tr>\n",
       "    \n",
       "\n",
       "        <tr class=\"default\">\n",
       "            <td><i class=\"copy-paste-icon\"\n",
       "                 onclick=\"copyToClipboard('ccp_alpha',\n",
       "                          this.parentElement.nextElementSibling)\"\n",
       "            ></i></td>\n",
       "            <td class=\"param\">ccp_alpha&nbsp;</td>\n",
       "            <td class=\"value\">0.0</td>\n",
       "        </tr>\n",
       "    \n",
       "\n",
       "        <tr class=\"default\">\n",
       "            <td><i class=\"copy-paste-icon\"\n",
       "                 onclick=\"copyToClipboard('max_samples',\n",
       "                          this.parentElement.nextElementSibling)\"\n",
       "            ></i></td>\n",
       "            <td class=\"param\">max_samples&nbsp;</td>\n",
       "            <td class=\"value\">None</td>\n",
       "        </tr>\n",
       "    \n",
       "\n",
       "        <tr class=\"default\">\n",
       "            <td><i class=\"copy-paste-icon\"\n",
       "                 onclick=\"copyToClipboard('monotonic_cst',\n",
       "                          this.parentElement.nextElementSibling)\"\n",
       "            ></i></td>\n",
       "            <td class=\"param\">monotonic_cst&nbsp;</td>\n",
       "            <td class=\"value\">None</td>\n",
       "        </tr>\n",
       "    \n",
       "                  </tbody>\n",
       "                </table>\n",
       "            </details>\n",
       "        </div>\n",
       "    </div></div></div></div></div><script>function copyToClipboard(text, element) {\n",
       "    // Get the parameter prefix from the closest toggleable content\n",
       "    const toggleableContent = element.closest('.sk-toggleable__content');\n",
       "    const paramPrefix = toggleableContent ? toggleableContent.dataset.paramPrefix : '';\n",
       "    const fullParamName = paramPrefix ? `${paramPrefix}${text}` : text;\n",
       "\n",
       "    const originalStyle = element.style;\n",
       "    const computedStyle = window.getComputedStyle(element);\n",
       "    const originalWidth = computedStyle.width;\n",
       "    const originalHTML = element.innerHTML.replace('Copied!', '');\n",
       "\n",
       "    navigator.clipboard.writeText(fullParamName)\n",
       "        .then(() => {\n",
       "            element.style.width = originalWidth;\n",
       "            element.style.color = 'green';\n",
       "            element.innerHTML = \"Copied!\";\n",
       "\n",
       "            setTimeout(() => {\n",
       "                element.innerHTML = originalHTML;\n",
       "                element.style = originalStyle;\n",
       "            }, 2000);\n",
       "        })\n",
       "        .catch(err => {\n",
       "            console.error('Failed to copy:', err);\n",
       "            element.style.color = 'red';\n",
       "            element.innerHTML = \"Failed!\";\n",
       "            setTimeout(() => {\n",
       "                element.innerHTML = originalHTML;\n",
       "                element.style = originalStyle;\n",
       "            }, 2000);\n",
       "        });\n",
       "    return false;\n",
       "}\n",
       "\n",
       "document.querySelectorAll('.fa-regular.fa-copy').forEach(function(element) {\n",
       "    const toggleableContent = element.closest('.sk-toggleable__content');\n",
       "    const paramPrefix = toggleableContent ? toggleableContent.dataset.paramPrefix : '';\n",
       "    const paramName = element.parentElement.nextElementSibling.textContent.trim();\n",
       "    const fullParamName = paramPrefix ? `${paramPrefix}${paramName}` : paramName;\n",
       "\n",
       "    element.setAttribute('title', fullParamName);\n",
       "});\n",
       "</script></body>"
>>>>>>> origin/master
      ],
      "text/plain": [
       "RandomForestClassifier(random_state=42)"
      ]
     },
<<<<<<< HEAD
     "execution_count": 109,
=======
     "execution_count": 32,
>>>>>>> origin/master
     "metadata": {},
     "output_type": "execute_result"
    }
   ],
   "source": [
    "model = RandomForestClassifier(n_estimators=100, random_state=42)\n",
    "model.fit(X_train, y_train)"
   ]
  },
  {
   "cell_type": "markdown",
   "id": "6f76efc1",
   "metadata": {},
   "source": [
    "# Evaluasi Model\n",
    "\n",
    "##### Evaluasi dilakukan dengan:\n",
    "\n",
    "- Classification Report (precision, recall, f1-score per kelas)\n",
    "- Confusion Matrix untuk melihat prediksi vs kenyataan secara visual.\n",
    "\n",
    "Hasil ini akan menunjukkan apakah model bisa mengenali gaya parenting dengan baik berdasarkan jawaban kuis."
   ]
  },
  {
   "cell_type": "code",
<<<<<<< HEAD
   "execution_count": 110,
=======
   "execution_count": 33,
>>>>>>> origin/master
   "id": "97aa7fd7",
   "metadata": {},
   "outputs": [
    {
     "name": "stdout",
     "output_type": "stream",
     "text": [
      "               precision    recall  f1-score   support\n",
      "\n",
      "Authoritative       0.78      0.96      0.86        73\n",
      "   Democratic       0.67      0.25      0.36         8\n",
      "        Mixed       0.42      0.27      0.33        30\n",
      "   Neglectful       1.00      0.60      0.75        10\n",
      "   Permissive       0.83      0.86      0.84        79\n",
      "\n",
      "     accuracy                           0.77       200\n",
      "    macro avg       0.74      0.59      0.63       200\n",
      " weighted avg       0.75      0.77      0.75       200\n",
      "\n"
     ]
    },
    {
     "data": {
<<<<<<< HEAD
      "image/png": "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",
=======
      "image/png": "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",
>>>>>>> origin/master
      "text/plain": [
       "<Figure size 640x480 with 2 Axes>"
      ]
     },
     "metadata": {},
     "output_type": "display_data"
    }
   ],
   "source": [
    "y_pred = model.predict(X_test)\n",
    "present_labels = np.unique(y_test)\n",
    "present_classes = le.inverse_transform(present_labels)\n",
    "\n",
    "print(classification_report(y_test, y_pred, target_names=present_classes))\n",
    "\n",
    "cm = confusion_matrix(y_test, y_pred)\n",
    "sns.heatmap(cm, annot=True, fmt='d', cmap='Blues', xticklabels=present_classes, yticklabels=present_classes)\n",
    "plt.title(\"Confusion Matrix\")\n",
    "plt.xlabel(\"Predicted\")\n",
    "plt.ylabel(\"Actual\")\n",
    "plt.show()\n"
   ]
  },
  {
   "cell_type": "markdown",
   "id": "1cd7fa8b",
   "metadata": {},
   "source": [
    "# Simpan Model\n",
    "\n",
    "- Model dan LabelEncoder disimpan dalam satu file .pkl.\n",
    "- File ini nantinya bisa digunakan untuk integrasi ke backend (misal: PHP native atau Next.js API)."
   ]
  },
  {
   "cell_type": "code",
<<<<<<< HEAD
   "execution_count": 111,
=======
   "execution_count": 34,
>>>>>>> origin/master
   "id": "9915bf65",
   "metadata": {},
   "outputs": [
    {
     "name": "stdout",
     "output_type": "stream",
     "text": [
      "Model disimpan sebagai parenting_match_model.pkl\n"
     ]
    }
   ],
   "source": [
    "joblib.dump(le, \"../ParentCare-BE/label_parenting_match_model.pkl\")\n",
    "joblib.dump(model, '../ParentCare-BE/parenting_match_model.pkl') \n",
    "print(\"Model disimpan sebagai parenting_match_model.pkl\")\n",
    "\n",
    "    "
   ]
  }
 ],
 "metadata": {
  "kernelspec": {
   "display_name": "Python 3",
   "language": "python",
   "name": "python3"
  },
  "language_info": {
   "codemirror_mode": {
    "name": "ipython",
    "version": 3
   },
   "file_extension": ".py",
   "mimetype": "text/x-python",
   "name": "python",
   "nbconvert_exporter": "python",
   "pygments_lexer": "ipython3",
<<<<<<< HEAD
   "version": "3.12.0"
=======
   "version": "3.13.4"
>>>>>>> origin/master
  }
 },
 "nbformat": 4,
 "nbformat_minor": 5
}
